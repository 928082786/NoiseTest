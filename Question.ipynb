{
 "cells": [
  {
   "cell_type": "code",
   "execution_count": 1,
   "metadata": {
    "ExecuteTime": {
     "end_time": "2021-01-26T09:06:16.704517Z",
     "start_time": "2021-01-26T09:06:16.373570Z"
    }
   },
   "outputs": [],
   "source": [
    "import torch\n",
    "import torch.nn as nn\n",
    "import torch.optim as optim\n",
    "from BaseModel import MnistModel\n",
    "from utils import load_mnist\n",
    "import numpy as np\n",
    "import matplotlib.pyplot as plt\n",
    "import tqdm"
   ]
  },
  {
   "cell_type": "markdown",
   "metadata": {
    "pycharm": {
     "name": "#%% md\n"
    }
   },
   "source": [
    "### load MNIST data"
   ]
  },
  {
   "cell_type": "code",
   "execution_count": 2,
   "metadata": {
    "ExecuteTime": {
     "end_time": "2021-01-26T09:06:18.146652Z",
     "start_time": "2021-01-26T09:06:17.819909Z"
    }
   },
   "outputs": [
    {
     "data": {
      "text/plain": [
       "<matplotlib.image.AxesImage at 0x7ff4b30dcb50>"
      ]
     },
     "execution_count": 2,
     "metadata": {},
     "output_type": "execute_result"
    },
    {
     "data": {
      "image/png": "[encoded data removed]",
      "text/plain": [
       "<Figure size 432x288 with 1 Axes>"
      ]
     },
     "metadata": {},
     "output_type": "display_data"
    }
   ],
   "source": [
    "MNIST_path = '/home/nvidia/LINMUX/Datasets/mnist/mnist.npz'\n",
    "x_train, y_train, x_test, y_test, _, _ = load_mnist(path=MNIST_path)\n",
    "\n",
    "plt.xticks([])\n",
    "plt.yticks([])\n",
    "plt.title(y_train[0])\n",
    "plt.imshow(np.squeeze(x_train[0]))"
   ]
  },
  {
   "cell_type": "markdown",
   "metadata": {},
   "source": [
    "### train model function and test model function"
   ]
  },
  {
   "cell_type": "code",
   "execution_count": 3,
   "metadata": {
    "ExecuteTime": {
     "end_time": "2021-01-26T09:06:19.781487Z",
     "start_time": "2021-01-26T09:06:19.756127Z"
    },
    "code_folding": []
   },
   "outputs": [],
   "source": [
    "def train(model, x, y, batch_size):\n",
    "    data = np.copy(x)\n",
    "    data = data.transpose((0, 3, 1, 2))\n",
    "    labels = np.copy(y)\n",
    "    seq = np.arange(0, data.shape[0], batch_size)\n",
    "    seq = np.append(seq, data.shape[0])\n",
    "    total_loss = 0\n",
    "    total_correct = 0\n",
    "    for i in range(seq.shape[0]-1):\n",
    "        optimizer.zero_grad()\n",
    "        inputs = torch.Tensor(data[seq[i]: seq[i+1]]).cuda()\n",
    "        targets = torch.Tensor(labels[seq[i]: seq[i+1]]).cuda().long()\n",
    "        outputs = model(inputs)\n",
    "        _, preds = outputs.max(1)\n",
    "        loss = criterizion(outputs, targets)\n",
    "        total_loss += loss.item()\n",
    "        total_correct += preds.eq(targets).sum().item()\n",
    "\n",
    "        loss.backward()\n",
    "        optimizer.step()\n",
    "    acc = total_correct/data.shape[0]\n",
    "    print(' Train Loss: {:.4f} | Train Acc: {:.4f}'.format(total_loss, acc))\n",
    "\n",
    "\n",
    "def test(model, x, y, batch_size):\n",
    "    data = np.copy(x)\n",
    "    data = data.transpose((0, 3, 1, 2))\n",
    "    labels = np.copy(y)\n",
    "    seq = np.arange(0, data.shape[0], batch_size)\n",
    "    seq = np.append(seq, data.shape[0])\n",
    "    with torch.no_grad():\n",
    "        total_correct = 0\n",
    "        for i in range(seq.shape[0]-1):\n",
    "            inputs = torch.Tensor(data[seq[i]: seq[i+1]]).cuda()\n",
    "            targets = torch.Tensor(labels[seq[i]: seq[i+1]]).cuda().long()\n",
    "            outputs = model(inputs)\n",
    "            _, preds = outputs.max(1)\n",
    "            total_correct += preds.eq(targets).sum().item()\n",
    "    acc = total_correct/data.shape[0]\n",
    "    print(' Test Acc:{:.4f}({}/{})'.format(acc, total_correct, data.shape[0]))"
   ]
  },
  {
   "cell_type": "markdown",
   "metadata": {},
   "source": [
    "### unTrained model"
   ]
  },
  {
   "cell_type": "code",
   "execution_count": 4,
   "metadata": {
    "ExecuteTime": {
     "end_time": "2021-01-26T09:06:25.812653Z",
     "start_time": "2021-01-26T09:06:22.008580Z"
    }
   },
   "outputs": [
    {
     "name": "stdout",
     "output_type": "stream",
     "text": [
      " Test Acc:0.1253(1253/10000)\n"
     ]
    }
   ],
   "source": [
    "unTrainModel = MnistModel().cuda()\n",
    "test(unTrainModel, x=x_test, y=y_test, batch_size=128)"
   ]
  },
  {
   "cell_type": "markdown",
   "metadata": {},
   "source": [
    "### Trained model"
   ]
  },
  {
   "cell_type": "code",
   "execution_count": 26,
   "metadata": {
    "ExecuteTime": {
     "end_time": "2021-01-26T07:56:25.073992Z",
     "start_time": "2021-01-26T07:56:13.999577Z"
    },
    "pycharm": {
     "name": "#%%\n"
    }
   },
   "outputs": [
    {
     "name": "stdout",
     "output_type": "stream",
     "text": [
      "Epoch:1\n",
      " Train Loss: 241.5468 | Train Acc: 0.8512\n",
      " Test Acc:0.9513(9513/10000)\n",
      "Epoch:2\n",
      " Train Loss: 67.1283 | Train Acc: 0.9566\n",
      " Test Acc:0.9710(9710/10000)\n",
      "Epoch:3\n",
      " Train Loss: 45.7111 | Train Acc: 0.9701\n",
      " Test Acc:0.9757(9757/10000)\n",
      "Epoch:4\n",
      " Train Loss: 36.3148 | Train Acc: 0.9757\n",
      " Test Acc:0.9790(9790/10000)\n",
      "Epoch:5\n",
      " Train Loss: 30.2145 | Train Acc: 0.9798\n",
      " Test Acc:0.9800(9800/10000)\n",
      "Epoch:6\n",
      " Train Loss: 26.0048 | Train Acc: 0.9825\n",
      " Test Acc:0.9799(9799/10000)\n",
      "Epoch:7\n",
      " Train Loss: 22.9358 | Train Acc: 0.9849\n",
      " Test Acc:0.9815(9815/10000)\n",
      "Epoch:8\n",
      " Train Loss: 20.6106 | Train Acc: 0.9865\n",
      " Test Acc:0.9832(9832/10000)\n",
      "Epoch:9\n",
      " Train Loss: 18.7669 | Train Acc: 0.9878\n",
      " Test Acc:0.9834(9834/10000)\n",
      "Epoch:10\n",
      " Train Loss: 17.1415 | Train Acc: 0.9887\n",
      " Test Acc:0.9837(9837/10000)\n"
     ]
    }
   ],
   "source": [
    "TrainModel = MnistModel().cuda()\n",
    "optimizer = optim.Adam(TrainModel.parameters(), lr=1e-3)\n",
    "criterizion = nn.CrossEntropyLoss()\n",
    "epochs = 10\n",
    "for epoch in range(epochs):\n",
    "    print('Epoch:{}'.format(epoch+1))\n",
    "    train(model=TrainModel, x=x_train, y=y_train, batch_size=128)\n",
    "    test(model=TrainModel, x=x_test, y=y_test, batch_size=128)"
   ]
  },
  {
   "cell_type": "markdown",
   "metadata": {},
   "source": [
    "### drawing function"
   ]
  },
  {
   "cell_type": "code",
   "execution_count": 27,
   "metadata": {
    "ExecuteTime": {
     "end_time": "2021-01-26T07:56:26.598068Z",
     "start_time": "2021-01-26T07:56:26.589381Z"
    }
   },
   "outputs": [],
   "source": [
    "def draw_subfunction(model, images, plt_name, ax, batch_size=128, num_classes=10):\n",
    "    seq = np.arange(0, images.shape[0], batch_size)\n",
    "    seq = np.append(seq, images.shape[0])\n",
    "    all_outputs = []\n",
    "    with torch.no_grad():\n",
    "        for i in range(seq.shape[0] - 1):\n",
    "            inputs = images[seq[i]: seq[i + 1]]\n",
    "            inputs = torch.Tensor(inputs).cuda()\n",
    "            outputs = model(inputs)\n",
    "            _, preds = outputs.max(1)\n",
    "            preds = preds.cpu().detach().numpy()\n",
    "            all_outputs.append(preds)\n",
    "    all_outputs = np.concatenate(all_outputs, axis=0)\n",
    "    counts = np.bincount(all_outputs, minlength=num_classes)\n",
    "    color_list = [item['color'] for item in list(plt.rcParams['axes.prop_cycle'])]\n",
    "    if num_classes == 10:\n",
    "        ax.bar(x=np.arange(10), height=counts , color=color_list)\n",
    "    else:\n",
    "        ax.bar(x=np.arange(10), height=np.sort(counts)[-10:] , color=color_list)\n",
    "    ax.set_xticks([])\n",
    "    ax.set_yticks([])\n",
    "    ax.set_title(plt_name)"
   ]
  },
  {
   "cell_type": "markdown",
   "metadata": {},
   "source": [
    "***\n",
    "Question demo: the predictions of model is not random\n",
    "***"
   ]
  },
  {
   "cell_type": "code",
   "execution_count": 7,
   "metadata": {
    "ExecuteTime": {
     "end_time": "2021-01-25T10:49:25.619622Z",
     "start_time": "2021-01-25T10:49:25.277438Z"
    }
   },
   "outputs": [
    {
     "data": {
      "image/png": "[encoded data removed]",
      "text/plain": [
       "<Figure size 576x288 with 2 Axes>"
      ]
     },
     "metadata": {},
     "output_type": "display_data"
    }
   ],
   "source": [
    "uniform_random_images = np.random.uniform(low=0, high=1, size=(10000, 1, 28, 28))\n",
    "fig = plt.figure(figsize=(8, 4))\n",
    "ax1 = fig.add_subplot(1, 2, 1)\n",
    "ax2 = fig.add_subplot(1, 2, 2)\n",
    "draw_subfunction(unTrainModel, uniform_random_images, plt_name='unTrainModel', ax=ax1)\n",
    "draw_subfunction(TrainModel, uniform_random_images, plt_name='TrainModel', ax=ax2)\n",
    "fig.suptitle('uniform')\n",
    "plt.show()"
   ]
  },
  {
   "cell_type": "markdown",
   "metadata": {},
   "source": [
    "*Question 1*:\n",
    "**Is the effects of random images relative to distribution?**\n",
    "\n",
    "- Step1: change the distribution of random images:\n",
    "          distributional functions: [gaussian, beta, uniform, weibull, dirichlet]\n",
    "- Step2: check the bar plot\n",
    "\n",
    "*Answer 1*:\n",
    "- Yes! the distribution of data is effective to model classify result "
   ]
  },
  {
   "cell_type": "markdown",
   "metadata": {},
   "source": [
    "### different noise"
   ]
  },
  {
   "cell_type": "code",
   "execution_count": 8,
   "metadata": {
    "ExecuteTime": {
     "end_time": "2021-01-25T10:53:52.295728Z",
     "start_time": "2021-01-25T10:53:50.465051Z"
    }
   },
   "outputs": [],
   "source": [
    "# gaussian\n",
    "gaussian_random_images = np.random.randn(10000, 1, 28, 28)/6+0.5\n",
    "gaussian_random_images = np.clip(0, 1, gaussian_random_images)\n",
    "\n",
    "# beta\n",
    "beta_random_images = np.random.beta(a=1, b=1, size=(10000, 1, 28, 28))\n",
    "beta_random_images = np.clip(0, 1, beta_random_images)\n",
    "\n",
    "# uniform\n",
    "uniform_random_images = np.random.uniform(low=1, high=1, size=(10000, 1, 28, 28))\n",
    "uniform_random_images = np.clip(0, 1, uniform_random_images)\n",
    "\n",
    "# weibull\n",
    "weibull_random_images = np.random.weibull(a=10, size=(10000, 1, 28, 28))\n",
    "weibull_random_images = np.clip(0, 1, weibull_random_images)\n",
    "\n",
    "# dirichlet\n",
    "dirichlet_random_images = np.random.dirichlet(([1]), size=(10000, 1, 28, 28)).reshape((10000, 1, 28, 28))\n",
    "dirichlet_random_images = np.clip(0, 1, dirichlet_random_images)\n",
    "\n",
    "# Mnist dataset\n",
    "mnist_data = x_train[:10000].transpose(0, 3, 1, 2)"
   ]
  },
  {
   "cell_type": "code",
   "execution_count": 9,
   "metadata": {
    "ExecuteTime": {
     "end_time": "2021-01-25T10:54:14.984137Z",
     "start_time": "2021-01-25T10:54:13.075215Z"
    }
   },
   "outputs": [
    {
     "data": {
      "image/png": "[encoded data removed]",
      "text/plain": [
       "<Figure size 1296x432 with 12 Axes>"
      ]
     },
     "metadata": {},
     "output_type": "display_data"
    }
   ],
   "source": [
    "random_images = [gaussian_random_images, beta_random_images, uniform_random_images,\n",
    "                 weibull_random_images, dirichlet_random_images, mnist_data]\n",
    "noise_name = ['gaussian', 'beta', 'uniform', 'weibull', 'dirichlet', 'mnist']\n",
    "fig = plt.figure(figsize=(18, 6))\n",
    "for i in range(6):\n",
    "    ax1 = fig.add_subplot(2, 6, i+1)\n",
    "    ax2 = fig.add_subplot(2, 6, i+7)\n",
    "    draw_subfunction(model=unTrainModel, images=random_images[i], plt_name=noise_name[i], ax=ax1)\n",
    "    draw_subfunction(model=TrainModel, images=random_images[i], plt_name=noise_name[i], ax=ax2)\n",
    "plt.text(-70, 2000, s='$unTrainModel$', ha='center', fontsize=15, family='monospace', weight='bold')\n",
    "plt.text(-70, 500, s='$TrainModel$', ha='center', fontsize=15, family='monospace', weight='bold')\n",
    "plt.show()"
   ]
  },
  {
   "cell_type": "markdown",
   "metadata": {},
   "source": [
    "\n",
    "*Question 2*: **Does the model could work better if we add noises to images through data augment?**\n",
    "\n",
    "- Step1: add different noise to image and retrain the model\n",
    "- step2: evaluate the model \n",
    "\n",
    "*Answer 2*: Yes. **Not only working better but also being closed the distribution of noises.**\n"
   ]
  },
  {
   "cell_type": "markdown",
   "metadata": {},
   "source": [
    "### Gaussian"
   ]
  },
  {
   "cell_type": "code",
   "execution_count": 10,
   "metadata": {
    "ExecuteTime": {
     "end_time": "2021-01-25T11:03:16.882176Z",
     "start_time": "2021-01-25T10:57:32.048093Z"
    }
   },
   "outputs": [
    {
     "name": "stderr",
     "output_type": "stream",
     "text": [
      "\r",
      "  0%|          | 0/11 [00:00<?, ?it/s]"
     ]
    },
    {
     "name": "stdout",
     "output_type": "stream",
     "text": [
      "Epoch:1\n",
      " Train Loss: 1079.4081 | Train Acc: 0.1116\n",
      " Test Acc:0.1028\n",
      "Epoch:2\n",
      " Train Loss: 1079.3326 | Train Acc: 0.1122\n",
      " Test Acc:0.1026\n",
      "Epoch:3\n",
      " Train Loss: 1079.3110 | Train Acc: 0.1123\n",
      " Test Acc:0.1027\n",
      "Epoch:4\n",
      " Train Loss: 1079.3109 | Train Acc: 0.1118\n",
      " Test Acc:0.1135\n",
      "Epoch:5\n",
      " Train Loss: 1079.3079 | Train Acc: 0.1124\n",
      " Test Acc:0.1135\n",
      "Epoch:6\n",
      " Train Loss: 1079.3076 | Train Acc: 0.1124\n",
      " Test Acc:0.1135\n",
      "Epoch:7\n",
      " Train Loss: 1079.3037 | Train Acc: 0.1124\n",
      " Test Acc:0.1135\n",
      "Epoch:8\n",
      " Train Loss: 1079.3003 | Train Acc: 0.1124\n",
      " Test Acc:0.1135\n",
      "Epoch:9\n",
      " Train Loss: 1079.2989 | Train Acc: 0.1124\n",
      " Test Acc:0.1135\n",
      "Epoch:10\n",
      " Train Loss: 1079.2963 | Train Acc: 0.1124\n",
      " Test Acc:0.1135\n"
     ]
    },
    {
     "name": "stderr",
     "output_type": "stream",
     "text": [
      "\r",
      "  9%|▉         | 1/11 [00:36<06:08, 36.87s/it]"
     ]
    },
    {
     "name": "stdout",
     "output_type": "stream",
     "text": [
      "Epoch:1\n",
      " Train Loss: 859.3936 | Train Acc: 0.3397\n",
      " Test Acc:0.7667\n",
      "Epoch:2\n",
      " Train Loss: 629.7083 | Train Acc: 0.5357\n",
      " Test Acc:0.8227\n",
      "Epoch:3\n",
      " Train Loss: 602.2274 | Train Acc: 0.5591\n",
      " Test Acc:0.8416\n",
      "Epoch:4\n",
      " Train Loss: 583.7514 | Train Acc: 0.5711\n",
      " Test Acc:0.8668\n",
      "Epoch:5\n",
      " Train Loss: 570.1616 | Train Acc: 0.5808\n",
      " Test Acc:0.8749\n",
      "Epoch:6\n",
      " Train Loss: 560.6257 | Train Acc: 0.5895\n",
      " Test Acc:0.8787\n",
      "Epoch:7\n",
      " Train Loss: 549.4104 | Train Acc: 0.5976\n",
      " Test Acc:0.8970\n",
      "Epoch:8\n",
      " Train Loss: 545.8096 | Train Acc: 0.6012\n",
      " Test Acc:0.8895\n",
      "Epoch:9\n",
      " Train Loss: 534.8750 | Train Acc: 0.6098\n",
      " Test Acc:0.9029\n",
      "Epoch:10\n",
      " Train Loss: 532.4505 | Train Acc: 0.6110\n",
      " Test Acc:0.9034\n"
     ]
    },
    {
     "name": "stderr",
     "output_type": "stream",
     "text": [
      "\r",
      " 18%|█▊        | 2/11 [01:07<05:00, 33.35s/it]"
     ]
    },
    {
     "name": "stdout",
     "output_type": "stream",
     "text": [
      "Epoch:1\n",
      " Train Loss: 506.6101 | Train Acc: 0.6508\n",
      " Test Acc:0.8952\n",
      "Epoch:2\n",
      " Train Loss: 256.8583 | Train Acc: 0.8195\n",
      " Test Acc:0.9170\n",
      "Epoch:3\n",
      " Train Loss: 214.2974 | Train Acc: 0.8515\n",
      " Test Acc:0.9401\n",
      "Epoch:4\n",
      " Train Loss: 189.6655 | Train Acc: 0.8677\n",
      " Test Acc:0.9492\n",
      "Epoch:5\n",
      " Train Loss: 173.8073 | Train Acc: 0.8782\n",
      " Test Acc:0.9551\n",
      "Epoch:6\n",
      " Train Loss: 158.5730 | Train Acc: 0.8888\n",
      " Test Acc:0.9595\n",
      "Epoch:7\n",
      " Train Loss: 149.7598 | Train Acc: 0.8946\n",
      " Test Acc:0.9611\n",
      "Epoch:8\n",
      " Train Loss: 139.7417 | Train Acc: 0.9026\n",
      " Test Acc:0.9635\n",
      "Epoch:9\n",
      " Train Loss: 133.5157 | Train Acc: 0.9061\n",
      " Test Acc:0.9661\n",
      "Epoch:10\n",
      " Train Loss: 127.2805 | Train Acc: 0.9103\n",
      " Test Acc:0.9664\n"
     ]
    },
    {
     "name": "stderr",
     "output_type": "stream",
     "text": [
      "\r",
      " 27%|██▋       | 3/11 [01:37<04:13, 31.71s/it]"
     ]
    },
    {
     "name": "stdout",
     "output_type": "stream",
     "text": [
      "Epoch:1\n",
      " Train Loss: 397.7989 | Train Acc: 0.7433\n",
      " Test Acc:0.8948\n",
      "Epoch:2\n",
      " Train Loss: 174.3398 | Train Acc: 0.8843\n",
      " Test Acc:0.9353\n",
      "Epoch:3\n",
      " Train Loss: 124.9855 | Train Acc: 0.9167\n",
      " Test Acc:0.9550\n",
      "Epoch:4\n",
      " Train Loss: 99.7305 | Train Acc: 0.9326\n",
      " Test Acc:0.9642\n",
      "Epoch:5\n",
      " Train Loss: 85.3540 | Train Acc: 0.9420\n",
      " Test Acc:0.9688\n",
      "Epoch:6\n",
      " Train Loss: 75.3487 | Train Acc: 0.9491\n",
      " Test Acc:0.9721\n",
      "Epoch:7\n",
      " Train Loss: 69.3727 | Train Acc: 0.9529\n",
      " Test Acc:0.9763\n",
      "Epoch:8\n",
      " Train Loss: 64.1928 | Train Acc: 0.9570\n",
      " Test Acc:0.9797\n",
      "Epoch:9\n",
      " Train Loss: 59.3194 | Train Acc: 0.9596\n",
      " Test Acc:0.9804\n",
      "Epoch:10\n",
      " Train Loss: 58.5411 | Train Acc: 0.9600\n",
      " Test Acc:0.9813\n"
     ]
    },
    {
     "name": "stderr",
     "output_type": "stream",
     "text": [
      "\r",
      " 36%|███▋      | 4/11 [02:08<03:40, 31.53s/it]"
     ]
    },
    {
     "name": "stdout",
     "output_type": "stream",
     "text": [
      "Epoch:1\n",
      " Train Loss: 323.6809 | Train Acc: 0.7947\n",
      " Test Acc:0.9199\n",
      "Epoch:2\n",
      " Train Loss: 118.4318 | Train Acc: 0.9227\n",
      " Test Acc:0.9465\n",
      "Epoch:3\n",
      " Train Loss: 84.6658 | Train Acc: 0.9445\n",
      " Test Acc:0.9551\n",
      "Epoch:4\n",
      " Train Loss: 68.5527 | Train Acc: 0.9543\n",
      " Test Acc:0.9648\n",
      "Epoch:5\n",
      " Train Loss: 59.9033 | Train Acc: 0.9601\n",
      " Test Acc:0.9683\n",
      "Epoch:6\n",
      " Train Loss: 52.5377 | Train Acc: 0.9644\n",
      " Test Acc:0.9739\n",
      "Epoch:7\n",
      " Train Loss: 47.5755 | Train Acc: 0.9681\n",
      " Test Acc:0.9751\n",
      "Epoch:8\n",
      " Train Loss: 44.5677 | Train Acc: 0.9695\n",
      " Test Acc:0.9757\n",
      "Epoch:9\n",
      " Train Loss: 40.9185 | Train Acc: 0.9721\n",
      " Test Acc:0.9775\n",
      "Epoch:10\n",
      " Train Loss: 38.3235 | Train Acc: 0.9741\n",
      " Test Acc:0.9795\n"
     ]
    },
    {
     "name": "stderr",
     "output_type": "stream",
     "text": [
      "\r",
      " 45%|████▌     | 5/11 [02:39<03:07, 31.29s/it]"
     ]
    },
    {
     "name": "stdout",
     "output_type": "stream",
     "text": [
      "Epoch:1\n",
      " Train Loss: 330.7398 | Train Acc: 0.7876\n",
      " Test Acc:0.9088\n",
      "Epoch:2\n",
      " Train Loss: 106.1338 | Train Acc: 0.9313\n",
      " Test Acc:0.9531\n",
      "Epoch:3\n",
      " Train Loss: 69.2922 | Train Acc: 0.9545\n",
      " Test Acc:0.9641\n",
      "Epoch:4\n",
      " Train Loss: 55.1542 | Train Acc: 0.9638\n",
      " Test Acc:0.9706\n",
      "Epoch:5\n",
      " Train Loss: 46.8356 | Train Acc: 0.9695\n",
      " Test Acc:0.9753\n",
      "Epoch:6\n",
      " Train Loss: 41.0690 | Train Acc: 0.9732\n",
      " Test Acc:0.9763\n",
      "Epoch:7\n",
      " Train Loss: 37.3852 | Train Acc: 0.9749\n",
      " Test Acc:0.9778\n",
      "Epoch:8\n",
      " Train Loss: 34.1313 | Train Acc: 0.9769\n",
      " Test Acc:0.9745\n",
      "Epoch:9\n",
      " Train Loss: 31.5926 | Train Acc: 0.9787\n",
      " Test Acc:0.9762\n",
      "Epoch:10\n",
      " Train Loss: 30.0359 | Train Acc: 0.9791\n",
      " Test Acc:0.9791\n"
     ]
    },
    {
     "name": "stderr",
     "output_type": "stream",
     "text": [
      "\r",
      " 55%|█████▍    | 6/11 [03:08<02:33, 30.63s/it]"
     ]
    },
    {
     "name": "stdout",
     "output_type": "stream",
     "text": [
      "Epoch:1\n",
      " Train Loss: 290.5377 | Train Acc: 0.8174\n",
      " Test Acc:0.9220\n",
      "Epoch:2\n",
      " Train Loss: 95.3314 | Train Acc: 0.9397\n",
      " Test Acc:0.9529\n",
      "Epoch:3\n",
      " Train Loss: 64.9752 | Train Acc: 0.9585\n",
      " Test Acc:0.9622\n",
      "Epoch:4\n",
      " Train Loss: 51.5663 | Train Acc: 0.9665\n",
      " Test Acc:0.9659\n",
      "Epoch:5\n",
      " Train Loss: 42.9977 | Train Acc: 0.9725\n",
      " Test Acc:0.9668\n",
      "Epoch:6\n",
      " Train Loss: 37.3428 | Train Acc: 0.9762\n",
      " Test Acc:0.9725\n",
      "Epoch:7\n",
      " Train Loss: 33.5164 | Train Acc: 0.9782\n",
      " Test Acc:0.9735\n",
      "Epoch:8\n",
      " Train Loss: 30.1312 | Train Acc: 0.9804\n",
      " Test Acc:0.9761\n",
      "Epoch:9\n",
      " Train Loss: 27.4207 | Train Acc: 0.9825\n",
      " Test Acc:0.9780\n",
      "Epoch:10\n",
      " Train Loss: 25.6248 | Train Acc: 0.9833\n",
      " Test Acc:0.9767\n"
     ]
    },
    {
     "name": "stderr",
     "output_type": "stream",
     "text": [
      "\r",
      " 64%|██████▎   | 7/11 [03:39<02:02, 30.68s/it]"
     ]
    },
    {
     "name": "stdout",
     "output_type": "stream",
     "text": [
      "Epoch:1\n",
      " Train Loss: 257.8350 | Train Acc: 0.8426\n",
      " Test Acc:0.9374\n",
      "Epoch:2\n",
      " Train Loss: 72.7319 | Train Acc: 0.9530\n",
      " Test Acc:0.9609\n",
      "Epoch:3\n",
      " Train Loss: 50.4511 | Train Acc: 0.9669\n",
      " Test Acc:0.9665\n",
      "Epoch:4\n",
      " Train Loss: 40.5966 | Train Acc: 0.9733\n",
      " Test Acc:0.9699\n",
      "Epoch:5\n",
      " Train Loss: 34.5365 | Train Acc: 0.9774\n",
      " Test Acc:0.9753\n",
      "Epoch:6\n",
      " Train Loss: 30.1961 | Train Acc: 0.9800\n",
      " Test Acc:0.9780\n",
      "Epoch:7\n",
      " Train Loss: 26.7631 | Train Acc: 0.9823\n",
      " Test Acc:0.9797\n",
      "Epoch:8\n",
      " Train Loss: 24.2667 | Train Acc: 0.9841\n",
      " Test Acc:0.9820\n",
      "Epoch:9\n",
      " Train Loss: 21.8954 | Train Acc: 0.9855\n",
      " Test Acc:0.9841\n",
      "Epoch:10\n",
      " Train Loss: 19.6079 | Train Acc: 0.9875\n",
      " Test Acc:0.9822\n"
     ]
    },
    {
     "name": "stderr",
     "output_type": "stream",
     "text": [
      "\r",
      " 73%|███████▎  | 8/11 [04:09<01:31, 30.52s/it]"
     ]
    },
    {
     "name": "stdout",
     "output_type": "stream",
     "text": [
      "Epoch:1\n",
      " Train Loss: 246.9247 | Train Acc: 0.8502\n",
      " Test Acc:0.9303\n",
      "Epoch:2\n",
      " Train Loss: 79.0795 | Train Acc: 0.9500\n",
      " Test Acc:0.9629\n",
      "Epoch:3\n",
      " Train Loss: 53.6152 | Train Acc: 0.9661\n",
      " Test Acc:0.9740\n",
      "Epoch:4\n",
      " Train Loss: 41.4503 | Train Acc: 0.9734\n",
      " Test Acc:0.9773\n",
      "Epoch:5\n",
      " Train Loss: 34.7494 | Train Acc: 0.9779\n",
      " Test Acc:0.9795\n",
      "Epoch:6\n",
      " Train Loss: 30.1350 | Train Acc: 0.9804\n",
      " Test Acc:0.9804\n",
      "Epoch:7\n",
      " Train Loss: 26.7496 | Train Acc: 0.9825\n",
      " Test Acc:0.9822\n",
      "Epoch:8\n",
      " Train Loss: 23.9312 | Train Acc: 0.9848\n",
      " Test Acc:0.9825\n",
      "Epoch:9\n",
      " Train Loss: 21.3321 | Train Acc: 0.9865\n",
      " Test Acc:0.9830\n",
      "Epoch:10\n",
      " Train Loss: 19.6830 | Train Acc: 0.9871\n",
      " Test Acc:0.9835\n"
     ]
    },
    {
     "name": "stderr",
     "output_type": "stream",
     "text": [
      "\r",
      " 82%|████████▏ | 9/11 [04:43<01:02, 31.50s/it]"
     ]
    },
    {
     "name": "stdout",
     "output_type": "stream",
     "text": [
      "Epoch:1\n",
      " Train Loss: 233.4955 | Train Acc: 0.8558\n",
      " Test Acc:0.9404\n",
      "Epoch:2\n",
      " Train Loss: 77.9393 | Train Acc: 0.9491\n",
      " Test Acc:0.9622\n",
      "Epoch:3\n",
      " Train Loss: 53.7869 | Train Acc: 0.9644\n",
      " Test Acc:0.9710\n",
      "Epoch:4\n",
      " Train Loss: 41.9139 | Train Acc: 0.9720\n",
      " Test Acc:0.9751\n",
      "Epoch:5\n",
      " Train Loss: 34.5718 | Train Acc: 0.9774\n",
      " Test Acc:0.9792\n",
      "Epoch:6\n",
      " Train Loss: 29.5576 | Train Acc: 0.9806\n",
      " Test Acc:0.9820\n",
      "Epoch:7\n",
      " Train Loss: 25.8051 | Train Acc: 0.9833\n",
      " Test Acc:0.9828\n",
      "Epoch:8\n",
      " Train Loss: 22.9520 | Train Acc: 0.9850\n",
      " Test Acc:0.9833\n",
      "Epoch:9\n",
      " Train Loss: 20.5974 | Train Acc: 0.9867\n",
      " Test Acc:0.9840\n",
      "Epoch:10\n",
      " Train Loss: 18.5249 | Train Acc: 0.9879\n",
      " Test Acc:0.9824\n"
     ]
    },
    {
     "name": "stderr",
     "output_type": "stream",
     "text": [
      "\r",
      " 91%|█████████ | 10/11 [05:13<00:31, 31.13s/it]"
     ]
    },
    {
     "name": "stdout",
     "output_type": "stream",
     "text": [
      "Epoch:1\n",
      " Train Loss: 241.7654 | Train Acc: 0.8515\n",
      " Test Acc:0.9491\n",
      "Epoch:2\n",
      " Train Loss: 65.5506 | Train Acc: 0.9578\n",
      " Test Acc:0.9691\n",
      "Epoch:3\n",
      " Train Loss: 44.6289 | Train Acc: 0.9709\n",
      " Test Acc:0.9762\n",
      "Epoch:4\n",
      " Train Loss: 35.6390 | Train Acc: 0.9769\n",
      " Test Acc:0.9807\n",
      "Epoch:5\n",
      " Train Loss: 30.1118 | Train Acc: 0.9808\n",
      " Test Acc:0.9818\n",
      "Epoch:6\n",
      " Train Loss: 26.2705 | Train Acc: 0.9833\n",
      " Test Acc:0.9828\n",
      "Epoch:7\n",
      " Train Loss: 23.2486 | Train Acc: 0.9850\n",
      " Test Acc:0.9829\n",
      "Epoch:8\n",
      " Train Loss: 20.8124 | Train Acc: 0.9866\n",
      " Test Acc:0.9829\n",
      "Epoch:9\n",
      " Train Loss: 18.8910 | Train Acc: 0.9880\n",
      " Test Acc:0.9836\n",
      "Epoch:10\n",
      " Train Loss: 17.0392 | Train Acc: 0.9893\n",
      " Test Acc:0.9840\n"
     ]
    },
    {
     "name": "stderr",
     "output_type": "stream",
     "text": [
      "100%|██████████| 11/11 [05:44<00:00, 31.31s/it]\n"
     ]
    },
    {
     "data": {
      "image/png": "[encoded data removed]",
      "text/plain": [
       "<Figure size 2376x432 with 22 Axes>"
      ]
     },
     "metadata": {},
     "output_type": "display_data"
    }
   ],
   "source": [
    "fig = plt.figure(figsize=(33, 6))\n",
    "for i in tqdm.trange(11):\n",
    "    TrainModel = MnistModel().cuda()\n",
    "    optimizer = optim.Adam(TrainModel.parameters(), lr=1e-3)\n",
    "    criterizion = nn.CrossEntropyLoss()\n",
    "    epochs = 10\n",
    "    for epoch in range(epochs):\n",
    "        print('Epoch:{}'.format(epoch+1))\n",
    "        gaussian_random_images = np.random.randn(*x_train.shape) / 6 + 0.5\n",
    "        train_data = x_train*i*0.1+gaussian_random_images*(1-i*0.1) # from 0 to 1, step is 0.1\n",
    "        train_data = np.clip(0, 1, train_data)\n",
    "        train(model=TrainModel, x=train_data, y=y_train, batch_size=128)\n",
    "        test(model=TrainModel, x=x_test, y=y_test, batch_size=128)\n",
    "\n",
    "    ax1 = fig.add_subplot(2, 11, i+1)\n",
    "    ax2 = fig.add_subplot(2, 11, i+12)\n",
    "    gaussian_random_images = np.random.randn(10000, 1, 28, 28)/6+0.5\n",
    "    gaussian_random_images = np.clip(0, 1, gaussian_random_images)\n",
    "    draw_subfunction(unTrainModel, images=gaussian_random_images, plt_name='unTrainModel', ax=ax1)\n",
    "    draw_subfunction(TrainModel, images=gaussian_random_images, plt_name='TrainModel', ax=ax2)\n",
    "fig.suptitle('guassian')\n",
    "plt.show()"
   ]
  },
  {
   "cell_type": "markdown",
   "metadata": {},
   "source": [
    "### beta"
   ]
  },
  {
   "cell_type": "code",
   "execution_count": 11,
   "metadata": {
    "ExecuteTime": {
     "end_time": "2021-01-25T11:11:45.627236Z",
     "start_time": "2021-01-25T11:04:10.903795Z"
    }
   },
   "outputs": [
    {
     "name": "stderr",
     "output_type": "stream",
     "text": [
      "\r",
      "  0%|          | 0/11 [00:00<?, ?it/s]"
     ]
    },
    {
     "name": "stdout",
     "output_type": "stream",
     "text": [
      "Epoch:1\n",
      " Train Loss: 1079.4479 | Train Acc: 0.1120\n",
      " Test Acc:0.1759\n",
      "Epoch:2\n",
      " Train Loss: 1079.3316 | Train Acc: 0.1120\n",
      " Test Acc:0.1136\n",
      "Epoch:3\n",
      " Train Loss: 1079.3321 | Train Acc: 0.1123\n",
      " Test Acc:0.1135\n",
      "Epoch:4\n",
      " Train Loss: 1079.3121 | Train Acc: 0.1124\n",
      " Test Acc:0.1135\n",
      "Epoch:5\n",
      " Train Loss: 1079.3076 | Train Acc: 0.1124\n",
      " Test Acc:0.1135\n",
      "Epoch:6\n",
      " Train Loss: 1079.3010 | Train Acc: 0.1124\n",
      " Test Acc:0.1135\n",
      "Epoch:7\n",
      " Train Loss: 1079.2985 | Train Acc: 0.1124\n",
      " Test Acc:0.1135\n",
      "Epoch:8\n",
      " Train Loss: 1079.2960 | Train Acc: 0.1124\n",
      " Test Acc:0.1135\n",
      "Epoch:9\n",
      " Train Loss: 1079.2965 | Train Acc: 0.1124\n",
      " Test Acc:0.1135\n",
      "Epoch:10\n",
      " Train Loss: 1079.2918 | Train Acc: 0.1124\n",
      " Test Acc:0.1135\n"
     ]
    },
    {
     "name": "stderr",
     "output_type": "stream",
     "text": [
      "\r",
      "  9%|▉         | 1/11 [00:41<06:52, 41.26s/it]"
     ]
    },
    {
     "name": "stdout",
     "output_type": "stream",
     "text": [
      "Epoch:1\n",
      " Train Loss: 965.9439 | Train Acc: 0.2493\n",
      " Test Acc:0.7699\n",
      "Epoch:2\n",
      " Train Loss: 852.3507 | Train Acc: 0.3624\n",
      " Test Acc:0.8228\n",
      "Epoch:3\n",
      " Train Loss: 835.6637 | Train Acc: 0.3771\n",
      " Test Acc:0.8341\n",
      "Epoch:4\n",
      " Train Loss: 828.0514 | Train Acc: 0.3823\n",
      " Test Acc:0.8427\n",
      "Epoch:5\n",
      " Train Loss: 822.4952 | Train Acc: 0.3892\n",
      " Test Acc:0.8492\n",
      "Epoch:6\n",
      " Train Loss: 815.4637 | Train Acc: 0.3952\n",
      " Test Acc:0.8437\n",
      "Epoch:7\n",
      " Train Loss: 813.0690 | Train Acc: 0.3938\n",
      " Test Acc:0.8562\n",
      "Epoch:8\n",
      " Train Loss: 809.0497 | Train Acc: 0.3987\n",
      " Test Acc:0.8519\n",
      "Epoch:9\n",
      " Train Loss: 795.9443 | Train Acc: 0.4071\n",
      " Test Acc:0.8581\n",
      "Epoch:10\n",
      " Train Loss: 791.1489 | Train Acc: 0.4137\n",
      " Test Acc:0.8649\n"
     ]
    },
    {
     "name": "stderr",
     "output_type": "stream",
     "text": [
      "\r",
      " 18%|█▊        | 2/11 [01:23<06:16, 41.86s/it]"
     ]
    },
    {
     "name": "stdout",
     "output_type": "stream",
     "text": [
      "Epoch:1\n",
      " Train Loss: 606.6168 | Train Acc: 0.5638\n",
      " Test Acc:0.8794\n",
      "Epoch:2\n",
      " Train Loss: 410.3438 | Train Acc: 0.7047\n",
      " Test Acc:0.9254\n",
      "Epoch:3\n",
      " Train Loss: 370.0498 | Train Acc: 0.7318\n",
      " Test Acc:0.9359\n",
      "Epoch:4\n",
      " Train Loss: 352.3419 | Train Acc: 0.7468\n",
      " Test Acc:0.9450\n",
      "Epoch:5\n",
      " Train Loss: 341.9955 | Train Acc: 0.7521\n",
      " Test Acc:0.9474\n",
      "Epoch:6\n",
      " Train Loss: 330.9575 | Train Acc: 0.7619\n",
      " Test Acc:0.9515\n",
      "Epoch:7\n",
      " Train Loss: 325.9606 | Train Acc: 0.7631\n",
      " Test Acc:0.9536\n",
      "Epoch:8\n",
      " Train Loss: 319.6520 | Train Acc: 0.7685\n",
      " Test Acc:0.9527\n",
      "Epoch:9\n",
      " Train Loss: 315.8174 | Train Acc: 0.7707\n",
      " Test Acc:0.9503\n",
      "Epoch:10\n",
      " Train Loss: 310.3617 | Train Acc: 0.7751\n",
      " Test Acc:0.9549\n"
     ]
    },
    {
     "name": "stderr",
     "output_type": "stream",
     "text": [
      "\r",
      " 27%|██▋       | 3/11 [02:05<05:33, 41.73s/it]"
     ]
    },
    {
     "name": "stdout",
     "output_type": "stream",
     "text": [
      "Epoch:1\n",
      " Train Loss: 498.2912 | Train Acc: 0.6542\n",
      " Test Acc:0.8845\n",
      "Epoch:2\n",
      " Train Loss: 238.6361 | Train Acc: 0.8349\n",
      " Test Acc:0.9277\n",
      "Epoch:3\n",
      " Train Loss: 189.5039 | Train Acc: 0.8677\n",
      " Test Acc:0.9405\n",
      "Epoch:4\n",
      " Train Loss: 168.7438 | Train Acc: 0.8807\n",
      " Test Acc:0.9452\n",
      "Epoch:5\n",
      " Train Loss: 154.6974 | Train Acc: 0.8921\n",
      " Test Acc:0.9545\n",
      "Epoch:6\n",
      " Train Loss: 145.9275 | Train Acc: 0.8989\n",
      " Test Acc:0.9545\n",
      "Epoch:7\n",
      " Train Loss: 138.7673 | Train Acc: 0.9037\n",
      " Test Acc:0.9589\n",
      "Epoch:8\n",
      " Train Loss: 132.5731 | Train Acc: 0.9077\n",
      " Test Acc:0.9625\n",
      "Epoch:9\n",
      " Train Loss: 129.7422 | Train Acc: 0.9086\n",
      " Test Acc:0.9615\n",
      "Epoch:10\n",
      " Train Loss: 123.8337 | Train Acc: 0.9140\n",
      " Test Acc:0.9650\n"
     ]
    },
    {
     "name": "stderr",
     "output_type": "stream",
     "text": [
      "\r",
      " 36%|███▋      | 4/11 [02:47<04:53, 41.90s/it]"
     ]
    },
    {
     "name": "stdout",
     "output_type": "stream",
     "text": [
      "Epoch:1\n",
      " Train Loss: 383.7605 | Train Acc: 0.7463\n",
      " Test Acc:0.9051\n",
      "Epoch:2\n",
      " Train Loss: 156.8983 | Train Acc: 0.8945\n",
      " Test Acc:0.9439\n",
      "Epoch:3\n",
      " Train Loss: 118.3589 | Train Acc: 0.9207\n",
      " Test Acc:0.9528\n",
      "Epoch:4\n",
      " Train Loss: 102.5932 | Train Acc: 0.9303\n",
      " Test Acc:0.9631\n",
      "Epoch:5\n",
      " Train Loss: 88.6416 | Train Acc: 0.9404\n",
      " Test Acc:0.9662\n",
      "Epoch:6\n",
      " Train Loss: 81.5052 | Train Acc: 0.9439\n",
      " Test Acc:0.9715\n",
      "Epoch:7\n",
      " Train Loss: 74.5173 | Train Acc: 0.9496\n",
      " Test Acc:0.9726\n",
      "Epoch:8\n",
      " Train Loss: 69.9672 | Train Acc: 0.9519\n",
      " Test Acc:0.9748\n",
      "Epoch:9\n",
      " Train Loss: 62.4341 | Train Acc: 0.9573\n",
      " Test Acc:0.9771\n",
      "Epoch:10\n",
      " Train Loss: 61.8225 | Train Acc: 0.9574\n",
      " Test Acc:0.9769\n"
     ]
    },
    {
     "name": "stderr",
     "output_type": "stream",
     "text": [
      "\r",
      " 45%|████▌     | 5/11 [03:29<04:11, 41.98s/it]"
     ]
    },
    {
     "name": "stdout",
     "output_type": "stream",
     "text": [
      "Epoch:1\n",
      " Train Loss: 315.0552 | Train Acc: 0.8077\n",
      " Test Acc:0.8981\n",
      "Epoch:2\n",
      " Train Loss: 121.3766 | Train Acc: 0.9211\n",
      " Test Acc:0.9376\n",
      "Epoch:3\n",
      " Train Loss: 83.1710 | Train Acc: 0.9448\n",
      " Test Acc:0.9559\n",
      "Epoch:4\n",
      " Train Loss: 66.1026 | Train Acc: 0.9560\n",
      " Test Acc:0.9638\n",
      "Epoch:5\n",
      " Train Loss: 56.1087 | Train Acc: 0.9622\n",
      " Test Acc:0.9727\n",
      "Epoch:6\n",
      " Train Loss: 49.9960 | Train Acc: 0.9658\n",
      " Test Acc:0.9710\n",
      "Epoch:7\n",
      " Train Loss: 46.0812 | Train Acc: 0.9686\n",
      " Test Acc:0.9777\n",
      "Epoch:8\n",
      " Train Loss: 42.1101 | Train Acc: 0.9716\n",
      " Test Acc:0.9783\n",
      "Epoch:9\n",
      " Train Loss: 39.5844 | Train Acc: 0.9733\n",
      " Test Acc:0.9818\n",
      "Epoch:10\n",
      " Train Loss: 37.4152 | Train Acc: 0.9743\n",
      " Test Acc:0.9818\n"
     ]
    },
    {
     "name": "stderr",
     "output_type": "stream",
     "text": [
      "\r",
      " 55%|█████▍    | 6/11 [04:10<03:28, 41.70s/it]"
     ]
    },
    {
     "name": "stdout",
     "output_type": "stream",
     "text": [
      "Epoch:1\n",
      " Train Loss: 265.2234 | Train Acc: 0.8374\n",
      " Test Acc:0.9446\n",
      "Epoch:2\n",
      " Train Loss: 81.6437 | Train Acc: 0.9483\n",
      " Test Acc:0.9648\n",
      "Epoch:3\n",
      " Train Loss: 57.9954 | Train Acc: 0.9617\n",
      " Test Acc:0.9704\n",
      "Epoch:4\n",
      " Train Loss: 46.5939 | Train Acc: 0.9689\n",
      " Test Acc:0.9744\n",
      "Epoch:5\n",
      " Train Loss: 40.0928 | Train Acc: 0.9734\n",
      " Test Acc:0.9781\n",
      "Epoch:6\n",
      " Train Loss: 35.1546 | Train Acc: 0.9766\n",
      " Test Acc:0.9792\n",
      "Epoch:7\n",
      " Train Loss: 31.7498 | Train Acc: 0.9785\n",
      " Test Acc:0.9811\n",
      "Epoch:8\n",
      " Train Loss: 29.3592 | Train Acc: 0.9802\n",
      " Test Acc:0.9835\n",
      "Epoch:9\n",
      " Train Loss: 26.7595 | Train Acc: 0.9822\n",
      " Test Acc:0.9843\n",
      "Epoch:10\n",
      " Train Loss: 25.4043 | Train Acc: 0.9833\n",
      " Test Acc:0.9853\n"
     ]
    },
    {
     "name": "stderr",
     "output_type": "stream",
     "text": [
      "\r",
      " 64%|██████▎   | 7/11 [04:51<02:45, 41.46s/it]"
     ]
    },
    {
     "name": "stdout",
     "output_type": "stream",
     "text": [
      "Epoch:1\n",
      " Train Loss: 265.5053 | Train Acc: 0.8346\n",
      " Test Acc:0.9285\n",
      "Epoch:2\n",
      " Train Loss: 89.6504 | Train Acc: 0.9427\n",
      " Test Acc:0.9585\n",
      "Epoch:3\n",
      " Train Loss: 61.5766 | Train Acc: 0.9606\n",
      " Test Acc:0.9646\n",
      "Epoch:4\n",
      " Train Loss: 48.5783 | Train Acc: 0.9683\n",
      " Test Acc:0.9686\n",
      "Epoch:5\n",
      " Train Loss: 40.9172 | Train Acc: 0.9727\n",
      " Test Acc:0.9725\n",
      "Epoch:6\n",
      " Train Loss: 36.3132 | Train Acc: 0.9759\n",
      " Test Acc:0.9748\n",
      "Epoch:7\n",
      " Train Loss: 32.3713 | Train Acc: 0.9783\n",
      " Test Acc:0.9762\n",
      "Epoch:8\n",
      " Train Loss: 28.8833 | Train Acc: 0.9809\n",
      " Test Acc:0.9789\n",
      "Epoch:9\n",
      " Train Loss: 26.4847 | Train Acc: 0.9822\n",
      " Test Acc:0.9807\n",
      "Epoch:10\n",
      " Train Loss: 24.5871 | Train Acc: 0.9838\n",
      " Test Acc:0.9808\n"
     ]
    },
    {
     "name": "stderr",
     "output_type": "stream",
     "text": [
      "\r",
      " 73%|███████▎  | 8/11 [05:33<02:04, 41.58s/it]"
     ]
    },
    {
     "name": "stdout",
     "output_type": "stream",
     "text": [
      "Epoch:1\n",
      " Train Loss: 262.7182 | Train Acc: 0.8242\n",
      " Test Acc:0.9383\n",
      "Epoch:2\n",
      " Train Loss: 74.0491 | Train Acc: 0.9518\n",
      " Test Acc:0.9624\n",
      "Epoch:3\n",
      " Train Loss: 51.4063 | Train Acc: 0.9663\n",
      " Test Acc:0.9685\n",
      "Epoch:4\n",
      " Train Loss: 41.6941 | Train Acc: 0.9722\n",
      " Test Acc:0.9733\n",
      "Epoch:5\n",
      " Train Loss: 34.7487 | Train Acc: 0.9770\n",
      " Test Acc:0.9763\n",
      "Epoch:6\n",
      " Train Loss: 30.3530 | Train Acc: 0.9804\n",
      " Test Acc:0.9773\n",
      "Epoch:7\n",
      " Train Loss: 26.7155 | Train Acc: 0.9820\n",
      " Test Acc:0.9805\n",
      "Epoch:8\n",
      " Train Loss: 23.5905 | Train Acc: 0.9845\n",
      " Test Acc:0.9806\n",
      "Epoch:9\n",
      " Train Loss: 21.2098 | Train Acc: 0.9863\n",
      " Test Acc:0.9818\n",
      "Epoch:10\n",
      " Train Loss: 19.6021 | Train Acc: 0.9870\n",
      " Test Acc:0.9823\n"
     ]
    },
    {
     "name": "stderr",
     "output_type": "stream",
     "text": [
      "\r",
      " 82%|████████▏ | 9/11 [06:14<01:22, 41.34s/it]"
     ]
    },
    {
     "name": "stdout",
     "output_type": "stream",
     "text": [
      "Epoch:1\n",
      " Train Loss: 215.3180 | Train Acc: 0.8696\n",
      " Test Acc:0.9468\n",
      "Epoch:2\n",
      " Train Loss: 67.3134 | Train Acc: 0.9563\n",
      " Test Acc:0.9639\n",
      "Epoch:3\n",
      " Train Loss: 48.6427 | Train Acc: 0.9688\n",
      " Test Acc:0.9697\n",
      "Epoch:4\n",
      " Train Loss: 39.3072 | Train Acc: 0.9742\n",
      " Test Acc:0.9740\n",
      "Epoch:5\n",
      " Train Loss: 33.3142 | Train Acc: 0.9783\n",
      " Test Acc:0.9765\n",
      "Epoch:6\n",
      " Train Loss: 28.9332 | Train Acc: 0.9814\n",
      " Test Acc:0.9778\n",
      "Epoch:7\n",
      " Train Loss: 25.6733 | Train Acc: 0.9834\n",
      " Test Acc:0.9794\n",
      "Epoch:8\n",
      " Train Loss: 22.9739 | Train Acc: 0.9851\n",
      " Test Acc:0.9802\n",
      "Epoch:9\n",
      " Train Loss: 20.9127 | Train Acc: 0.9867\n",
      " Test Acc:0.9814\n",
      "Epoch:10\n",
      " Train Loss: 18.9875 | Train Acc: 0.9880\n",
      " Test Acc:0.9821\n"
     ]
    },
    {
     "name": "stderr",
     "output_type": "stream",
     "text": [
      "\r",
      " 91%|█████████ | 10/11 [06:54<00:40, 40.93s/it]"
     ]
    },
    {
     "name": "stdout",
     "output_type": "stream",
     "text": [
      "Epoch:1\n",
      " Train Loss: 226.0859 | Train Acc: 0.8575\n",
      " Test Acc:0.9480\n",
      "Epoch:2\n",
      " Train Loss: 69.0800 | Train Acc: 0.9556\n",
      " Test Acc:0.9686\n",
      "Epoch:3\n",
      " Train Loss: 47.5257 | Train Acc: 0.9691\n",
      " Test Acc:0.9748\n",
      "Epoch:4\n",
      " Train Loss: 37.1443 | Train Acc: 0.9763\n",
      " Test Acc:0.9780\n",
      "Epoch:5\n",
      " Train Loss: 30.3792 | Train Acc: 0.9798\n",
      " Test Acc:0.9800\n",
      "Epoch:6\n",
      " Train Loss: 25.8154 | Train Acc: 0.9830\n",
      " Test Acc:0.9797\n",
      "Epoch:7\n",
      " Train Loss: 22.5492 | Train Acc: 0.9853\n",
      " Test Acc:0.9817\n",
      "Epoch:8\n",
      " Train Loss: 20.0038 | Train Acc: 0.9873\n",
      " Test Acc:0.9821\n",
      "Epoch:9\n",
      " Train Loss: 17.8604 | Train Acc: 0.9889\n",
      " Test Acc:0.9826\n",
      "Epoch:10\n",
      " Train Loss: 16.1616 | Train Acc: 0.9898\n",
      " Test Acc:0.9836\n"
     ]
    },
    {
     "name": "stderr",
     "output_type": "stream",
     "text": [
      "100%|██████████| 11/11 [07:34<00:00, 41.30s/it]\n"
     ]
    },
    {
     "data": {
      "image/png": "[encoded data removed]",
      "text/plain": [
       "<Figure size 2376x432 with 22 Axes>"
      ]
     },
     "metadata": {},
     "output_type": "display_data"
    }
   ],
   "source": [
    "fig = plt.figure(figsize=(33, 6))\n",
    "for i in tqdm.trange(11):\n",
    "    TrainModel = MnistModel().cuda()\n",
    "    optimizer = optim.Adam(TrainModel.parameters(), lr=1e-3)\n",
    "    criterizion = nn.CrossEntropyLoss()\n",
    "    epochs = 10\n",
    "    for epoch in range(epochs):\n",
    "        print('Epoch:{}'.format(epoch+1))\n",
    "        beta_random_images = np.random.beta(a=1, b=1, size=x_train.shape)\n",
    "        train_data = x_train*i*0.1+beta_random_images*(1-i*0.1)\n",
    "        train_data = np.clip(0, 1, train_data)\n",
    "        train(model=TrainModel, x=train_data, y=y_train, batch_size=128)\n",
    "        test(model=TrainModel, x=x_test, y=y_test, batch_size=128)\n",
    "\n",
    "    ax1 = fig.add_subplot(2, 11, i+1)\n",
    "    ax2 = fig.add_subplot(2, 11, i+12)\n",
    "    beta_random_images = np.random.beta(a=1, b=1, size=(10000, 1, 28, 28))\n",
    "    beta_random_images = np.clip(0, 1, beta_random_images)\n",
    "    draw_subfunction(unTrainModel, images=beta_random_images, plt_name='unTrainModel', ax=ax1)\n",
    "    draw_subfunction(TrainModel, images=beta_random_images, plt_name='TrainModel', ax=ax2)\n",
    "fig.suptitle('beta')\n",
    "plt.show()"
   ]
  },
  {
   "cell_type": "markdown",
   "metadata": {},
   "source": [
    "### uniform"
   ]
  },
  {
   "cell_type": "code",
   "execution_count": 12,
   "metadata": {
    "ExecuteTime": {
     "end_time": "2021-01-25T11:15:05.934038Z",
     "start_time": "2021-01-25T11:11:45.657789Z"
    }
   },
   "outputs": [
    {
     "name": "stderr",
     "output_type": "stream",
     "text": [
      "\r",
      "  0%|          | 0/11 [00:00<?, ?it/s]"
     ]
    },
    {
     "name": "stdout",
     "output_type": "stream",
     "text": [
      "Epoch:1\n",
      " Train Loss: 1079.5153 | Train Acc: 0.1124\n",
      " Test Acc:0.1028\n",
      "Epoch:2\n",
      " Train Loss: 1079.3772 | Train Acc: 0.1123\n",
      " Test Acc:0.0598\n",
      "Epoch:3\n",
      " Train Loss: 1079.3356 | Train Acc: 0.1123\n",
      " Test Acc:0.0587\n",
      "Epoch:4\n",
      " Train Loss: 1079.3270 | Train Acc: 0.1119\n",
      " Test Acc:0.0960\n",
      "Epoch:5\n",
      " Train Loss: 1079.3181 | Train Acc: 0.1120\n",
      " Test Acc:0.1134\n",
      "Epoch:6\n",
      " Train Loss: 1079.3111 | Train Acc: 0.1119\n",
      " Test Acc:0.1135\n",
      "Epoch:7\n",
      " Train Loss: 1079.3031 | Train Acc: 0.1125\n",
      " Test Acc:0.0824\n",
      "Epoch:8\n",
      " Train Loss: 1079.3021 | Train Acc: 0.1122\n",
      " Test Acc:0.0582\n",
      "Epoch:9\n",
      " Train Loss: 1079.3031 | Train Acc: 0.1121\n",
      " Test Acc:0.1135\n",
      "Epoch:10\n",
      " Train Loss: 1079.2985 | Train Acc: 0.1124\n",
      " Test Acc:0.0438\n"
     ]
    },
    {
     "name": "stderr",
     "output_type": "stream",
     "text": [
      "\r",
      "  9%|▉         | 1/11 [00:18<03:04, 18.45s/it]"
     ]
    },
    {
     "name": "stdout",
     "output_type": "stream",
     "text": [
      "Epoch:1\n",
      " Train Loss: 934.9248 | Train Acc: 0.2838\n",
      " Test Acc:0.7887\n",
      "Epoch:2\n",
      " Train Loss: 841.6530 | Train Acc: 0.3704\n",
      " Test Acc:0.8171\n",
      "Epoch:3\n",
      " Train Loss: 832.3106 | Train Acc: 0.3807\n",
      " Test Acc:0.8355\n",
      "Epoch:4\n",
      " Train Loss: 821.9735 | Train Acc: 0.3890\n",
      " Test Acc:0.8400\n",
      "Epoch:5\n",
      " Train Loss: 814.3728 | Train Acc: 0.3940\n",
      " Test Acc:0.8445\n",
      "Epoch:6\n",
      " Train Loss: 807.4041 | Train Acc: 0.4000\n",
      " Test Acc:0.8507\n",
      "Epoch:7\n",
      " Train Loss: 795.1142 | Train Acc: 0.4090\n",
      " Test Acc:0.8471\n",
      "Epoch:8\n",
      " Train Loss: 783.5581 | Train Acc: 0.4182\n",
      " Test Acc:0.8540\n",
      "Epoch:9\n",
      " Train Loss: 763.6926 | Train Acc: 0.4343\n",
      " Test Acc:0.8559\n",
      "Epoch:10\n",
      " Train Loss: 733.1399 | Train Acc: 0.4573\n",
      " Test Acc:0.8650\n"
     ]
    },
    {
     "name": "stderr",
     "output_type": "stream",
     "text": [
      "\r",
      " 18%|█▊        | 2/11 [00:36<02:45, 18.39s/it]"
     ]
    },
    {
     "name": "stdout",
     "output_type": "stream",
     "text": [
      "Epoch:1\n",
      " Train Loss: 646.7880 | Train Acc: 0.5278\n",
      " Test Acc:0.8553\n",
      "Epoch:2\n",
      " Train Loss: 449.1415 | Train Acc: 0.6750\n",
      " Test Acc:0.9068\n",
      "Epoch:3\n",
      " Train Loss: 407.6470 | Train Acc: 0.7052\n",
      " Test Acc:0.9251\n",
      "Epoch:4\n",
      " Train Loss: 380.8332 | Train Acc: 0.7255\n",
      " Test Acc:0.9310\n",
      "Epoch:5\n",
      " Train Loss: 362.2894 | Train Acc: 0.7400\n",
      " Test Acc:0.9342\n",
      "Epoch:6\n",
      " Train Loss: 352.8145 | Train Acc: 0.7440\n",
      " Test Acc:0.9394\n",
      "Epoch:7\n",
      " Train Loss: 343.0479 | Train Acc: 0.7500\n",
      " Test Acc:0.9409\n",
      "Epoch:8\n",
      " Train Loss: 337.6849 | Train Acc: 0.7556\n",
      " Test Acc:0.9433\n",
      "Epoch:9\n",
      " Train Loss: 331.3977 | Train Acc: 0.7600\n",
      " Test Acc:0.9450\n",
      "Epoch:10\n",
      " Train Loss: 319.0319 | Train Acc: 0.7706\n",
      " Test Acc:0.9450\n"
     ]
    },
    {
     "name": "stderr",
     "output_type": "stream",
     "text": [
      "\r",
      " 27%|██▋       | 3/11 [00:55<02:27, 18.41s/it]"
     ]
    },
    {
     "name": "stdout",
     "output_type": "stream",
     "text": [
      "Epoch:1\n",
      " Train Loss: 512.7425 | Train Acc: 0.6398\n",
      " Test Acc:0.8348\n",
      "Epoch:2\n",
      " Train Loss: 282.6415 | Train Acc: 0.8007\n",
      " Test Acc:0.8865\n",
      "Epoch:3\n",
      " Train Loss: 227.3023 | Train Acc: 0.8415\n",
      " Test Acc:0.9103\n",
      "Epoch:4\n",
      " Train Loss: 192.8737 | Train Acc: 0.8651\n",
      " Test Acc:0.9346\n",
      "Epoch:5\n",
      " Train Loss: 169.0970 | Train Acc: 0.8819\n",
      " Test Acc:0.9388\n",
      "Epoch:6\n",
      " Train Loss: 152.9310 | Train Acc: 0.8933\n",
      " Test Acc:0.9502\n",
      "Epoch:7\n",
      " Train Loss: 142.2983 | Train Acc: 0.8998\n",
      " Test Acc:0.9545\n",
      "Epoch:8\n",
      " Train Loss: 134.1257 | Train Acc: 0.9076\n",
      " Test Acc:0.9572\n",
      "Epoch:9\n",
      " Train Loss: 129.5237 | Train Acc: 0.9091\n",
      " Test Acc:0.9604\n",
      "Epoch:10\n",
      " Train Loss: 121.7387 | Train Acc: 0.9156\n",
      " Test Acc:0.9623\n"
     ]
    },
    {
     "name": "stderr",
     "output_type": "stream",
     "text": [
      "\r",
      " 36%|███▋      | 4/11 [01:13<02:08, 18.38s/it]"
     ]
    },
    {
     "name": "stdout",
     "output_type": "stream",
     "text": [
      "Epoch:1\n",
      " Train Loss: 373.5518 | Train Acc: 0.7412\n",
      " Test Acc:0.9188\n",
      "Epoch:2\n",
      " Train Loss: 135.4198 | Train Acc: 0.9091\n",
      " Test Acc:0.9498\n",
      "Epoch:3\n",
      " Train Loss: 103.5530 | Train Acc: 0.9295\n",
      " Test Acc:0.9625\n",
      "Epoch:4\n",
      " Train Loss: 89.7956 | Train Acc: 0.9389\n",
      " Test Acc:0.9671\n",
      "Epoch:5\n",
      " Train Loss: 81.2923 | Train Acc: 0.9449\n",
      " Test Acc:0.9703\n",
      "Epoch:6\n",
      " Train Loss: 75.1142 | Train Acc: 0.9498\n",
      " Test Acc:0.9713\n",
      "Epoch:7\n",
      " Train Loss: 70.9674 | Train Acc: 0.9512\n",
      " Test Acc:0.9746\n",
      "Epoch:8\n",
      " Train Loss: 65.5821 | Train Acc: 0.9561\n",
      " Test Acc:0.9759\n",
      "Epoch:9\n",
      " Train Loss: 62.0756 | Train Acc: 0.9568\n",
      " Test Acc:0.9792\n",
      "Epoch:10\n",
      " Train Loss: 57.8106 | Train Acc: 0.9607\n",
      " Test Acc:0.9805\n"
     ]
    },
    {
     "name": "stderr",
     "output_type": "stream",
     "text": [
      "\r",
      " 45%|████▌     | 5/11 [01:31<01:49, 18.31s/it]"
     ]
    },
    {
     "name": "stdout",
     "output_type": "stream",
     "text": [
      "Epoch:1\n",
      " Train Loss: 329.7772 | Train Acc: 0.7813\n",
      " Test Acc:0.9095\n",
      "Epoch:2\n",
      " Train Loss: 109.6904 | Train Acc: 0.9281\n",
      " Test Acc:0.9585\n",
      "Epoch:3\n",
      " Train Loss: 78.2178 | Train Acc: 0.9487\n",
      " Test Acc:0.9682\n",
      "Epoch:4\n",
      " Train Loss: 63.9603 | Train Acc: 0.9574\n",
      " Test Acc:0.9736\n",
      "Epoch:5\n",
      " Train Loss: 54.9680 | Train Acc: 0.9634\n",
      " Test Acc:0.9780\n",
      "Epoch:6\n",
      " Train Loss: 48.8216 | Train Acc: 0.9669\n",
      " Test Acc:0.9795\n",
      "Epoch:7\n",
      " Train Loss: 45.5575 | Train Acc: 0.9692\n",
      " Test Acc:0.9797\n",
      "Epoch:8\n",
      " Train Loss: 41.5249 | Train Acc: 0.9722\n",
      " Test Acc:0.9819\n",
      "Epoch:9\n",
      " Train Loss: 38.5855 | Train Acc: 0.9742\n",
      " Test Acc:0.9834\n",
      "Epoch:10\n",
      " Train Loss: 35.4657 | Train Acc: 0.9761\n",
      " Test Acc:0.9842\n"
     ]
    },
    {
     "name": "stderr",
     "output_type": "stream",
     "text": [
      "\r",
      " 55%|█████▍    | 6/11 [01:49<01:30, 18.20s/it]"
     ]
    },
    {
     "name": "stdout",
     "output_type": "stream",
     "text": [
      "Epoch:1\n",
      " Train Loss: 294.4345 | Train Acc: 0.8187\n",
      " Test Acc:0.8426\n",
      "Epoch:2\n",
      " Train Loss: 106.4079 | Train Acc: 0.9307\n",
      " Test Acc:0.9106\n",
      "Epoch:3\n",
      " Train Loss: 72.4669 | Train Acc: 0.9521\n",
      " Test Acc:0.9323\n",
      "Epoch:4\n",
      " Train Loss: 57.7517 | Train Acc: 0.9620\n",
      " Test Acc:0.9502\n",
      "Epoch:5\n",
      " Train Loss: 49.6604 | Train Acc: 0.9666\n",
      " Test Acc:0.9581\n",
      "Epoch:6\n",
      " Train Loss: 44.6272 | Train Acc: 0.9700\n",
      " Test Acc:0.9693\n",
      "Epoch:7\n",
      " Train Loss: 39.3661 | Train Acc: 0.9732\n",
      " Test Acc:0.9717\n",
      "Epoch:8\n",
      " Train Loss: 36.2949 | Train Acc: 0.9757\n",
      " Test Acc:0.9758\n",
      "Epoch:9\n",
      " Train Loss: 33.8197 | Train Acc: 0.9774\n",
      " Test Acc:0.9784\n",
      "Epoch:10\n",
      " Train Loss: 31.4620 | Train Acc: 0.9789\n",
      " Test Acc:0.9809\n"
     ]
    },
    {
     "name": "stderr",
     "output_type": "stream",
     "text": [
      "\r",
      " 64%|██████▎   | 7/11 [02:07<01:12, 18.17s/it]"
     ]
    },
    {
     "name": "stdout",
     "output_type": "stream",
     "text": [
      "Epoch:1\n",
      " Train Loss: 267.2225 | Train Acc: 0.8344\n",
      " Test Acc:0.9201\n",
      "Epoch:2\n",
      " Train Loss: 94.5639 | Train Acc: 0.9392\n",
      " Test Acc:0.9473\n",
      "Epoch:3\n",
      " Train Loss: 65.1581 | Train Acc: 0.9572\n",
      " Test Acc:0.9577\n",
      "Epoch:4\n",
      " Train Loss: 52.5540 | Train Acc: 0.9649\n",
      " Test Acc:0.9657\n",
      "Epoch:5\n",
      " Train Loss: 43.8737 | Train Acc: 0.9709\n",
      " Test Acc:0.9693\n",
      "Epoch:6\n",
      " Train Loss: 38.5914 | Train Acc: 0.9750\n",
      " Test Acc:0.9729\n",
      "Epoch:7\n",
      " Train Loss: 34.2724 | Train Acc: 0.9777\n",
      " Test Acc:0.9763\n",
      "Epoch:8\n",
      " Train Loss: 30.7216 | Train Acc: 0.9802\n",
      " Test Acc:0.9773\n",
      "Epoch:9\n",
      " Train Loss: 27.9663 | Train Acc: 0.9812\n",
      " Test Acc:0.9799\n",
      "Epoch:10\n",
      " Train Loss: 25.2999 | Train Acc: 0.9833\n",
      " Test Acc:0.9802\n"
     ]
    },
    {
     "name": "stderr",
     "output_type": "stream",
     "text": [
      "\r",
      " 73%|███████▎  | 8/11 [02:25<00:54, 18.13s/it]"
     ]
    },
    {
     "name": "stdout",
     "output_type": "stream",
     "text": [
      "Epoch:1\n",
      " Train Loss: 240.7233 | Train Acc: 0.8558\n",
      " Test Acc:0.9354\n",
      "Epoch:2\n",
      " Train Loss: 81.3450 | Train Acc: 0.9480\n",
      " Test Acc:0.9593\n",
      "Epoch:3\n",
      " Train Loss: 57.6001 | Train Acc: 0.9623\n",
      " Test Acc:0.9656\n",
      "Epoch:4\n",
      " Train Loss: 46.4017 | Train Acc: 0.9691\n",
      " Test Acc:0.9710\n",
      "Epoch:5\n",
      " Train Loss: 39.2620 | Train Acc: 0.9740\n",
      " Test Acc:0.9756\n",
      "Epoch:6\n",
      " Train Loss: 33.6531 | Train Acc: 0.9778\n",
      " Test Acc:0.9760\n",
      "Epoch:7\n",
      " Train Loss: 30.4130 | Train Acc: 0.9796\n",
      " Test Acc:0.9791\n",
      "Epoch:8\n",
      " Train Loss: 27.1888 | Train Acc: 0.9817\n",
      " Test Acc:0.9799\n",
      "Epoch:9\n",
      " Train Loss: 24.9220 | Train Acc: 0.9831\n",
      " Test Acc:0.9813\n",
      "Epoch:10\n",
      " Train Loss: 22.2624 | Train Acc: 0.9851\n",
      " Test Acc:0.9814\n"
     ]
    },
    {
     "name": "stderr",
     "output_type": "stream",
     "text": [
      "\r",
      " 82%|████████▏ | 9/11 [02:43<00:36, 18.11s/it]"
     ]
    },
    {
     "name": "stdout",
     "output_type": "stream",
     "text": [
      "Epoch:1\n",
      " Train Loss: 227.1589 | Train Acc: 0.8638\n",
      " Test Acc:0.9536\n",
      "Epoch:2\n",
      " Train Loss: 62.9431 | Train Acc: 0.9591\n",
      " Test Acc:0.9672\n",
      "Epoch:3\n",
      " Train Loss: 43.7533 | Train Acc: 0.9719\n",
      " Test Acc:0.9719\n",
      "Epoch:4\n",
      " Train Loss: 35.1160 | Train Acc: 0.9774\n",
      " Test Acc:0.9767\n",
      "Epoch:5\n",
      " Train Loss: 29.5868 | Train Acc: 0.9808\n",
      " Test Acc:0.9785\n",
      "Epoch:6\n",
      " Train Loss: 25.6846 | Train Acc: 0.9832\n",
      " Test Acc:0.9799\n",
      "Epoch:7\n",
      " Train Loss: 22.7893 | Train Acc: 0.9854\n",
      " Test Acc:0.9813\n",
      "Epoch:8\n",
      " Train Loss: 20.3112 | Train Acc: 0.9869\n",
      " Test Acc:0.9842\n",
      "Epoch:9\n",
      " Train Loss: 18.1814 | Train Acc: 0.9880\n",
      " Test Acc:0.9836\n",
      "Epoch:10\n",
      " Train Loss: 16.5574 | Train Acc: 0.9891\n",
      " Test Acc:0.9853\n"
     ]
    },
    {
     "name": "stderr",
     "output_type": "stream",
     "text": [
      "\r",
      " 91%|█████████ | 10/11 [03:01<00:18, 18.07s/it]"
     ]
    },
    {
     "name": "stdout",
     "output_type": "stream",
     "text": [
      "Epoch:1\n",
      " Train Loss: 238.4456 | Train Acc: 0.8520\n",
      " Test Acc:0.9501\n",
      "Epoch:2\n",
      " Train Loss: 63.0073 | Train Acc: 0.9588\n",
      " Test Acc:0.9673\n",
      "Epoch:3\n",
      " Train Loss: 44.8151 | Train Acc: 0.9708\n",
      " Test Acc:0.9742\n",
      "Epoch:4\n",
      " Train Loss: 36.4675 | Train Acc: 0.9763\n",
      " Test Acc:0.9793\n",
      "Epoch:5\n",
      " Train Loss: 30.8338 | Train Acc: 0.9796\n",
      " Test Acc:0.9817\n",
      "Epoch:6\n",
      " Train Loss: 26.7429 | Train Acc: 0.9823\n",
      " Test Acc:0.9839\n",
      "Epoch:7\n",
      " Train Loss: 23.9214 | Train Acc: 0.9842\n",
      " Test Acc:0.9833\n",
      "Epoch:8\n",
      " Train Loss: 21.6998 | Train Acc: 0.9857\n",
      " Test Acc:0.9834\n",
      "Epoch:9\n",
      " Train Loss: 19.5948 | Train Acc: 0.9873\n",
      " Test Acc:0.9838\n",
      "Epoch:10\n",
      " Train Loss: 17.7595 | Train Acc: 0.9884\n",
      " Test Acc:0.9846\n"
     ]
    },
    {
     "name": "stderr",
     "output_type": "stream",
     "text": [
      "100%|██████████| 11/11 [03:19<00:00, 18.17s/it]\n"
     ]
    },
    {
     "data": {
      "image/png": "[encoded data removed]",
      "text/plain": [
       "<Figure size 2376x432 with 22 Axes>"
      ]
     },
     "metadata": {},
     "output_type": "display_data"
    }
   ],
   "source": [
    "fig = plt.figure(figsize=(33, 6))\n",
    "for i in tqdm.trange(11):\n",
    "    TrainModel = MnistModel().cuda()\n",
    "    optimizer = optim.Adam(TrainModel.parameters(), lr=1e-3)\n",
    "    criterizion = nn.CrossEntropyLoss()\n",
    "    epochs = 10\n",
    "    for epoch in range(epochs):\n",
    "        print('Epoch:{}'.format(epoch+1))\n",
    "        uniform_random_images = np.random.uniform(low=0, high=1, size=x_train.shape)\n",
    "        train_data = x_train*i*0.1+uniform_random_images*(1-i*0.1)\n",
    "        train_data = np.clip(0, 1, train_data)\n",
    "        train(model=TrainModel, x=train_data, y=y_train, batch_size=128)\n",
    "        test(model=TrainModel, x=x_test, y=y_test, batch_size=128)\n",
    "\n",
    "    ax1 = fig.add_subplot(2, 11, i+1)\n",
    "    ax2 = fig.add_subplot(2, 11, i+12)\n",
    "    uniform_random_images = np.random.uniform(low=0, high=1, size=(10000, 1, 28, 28))\n",
    "    uniform_random_images = np.clip(0, 1, uniform_random_images)\n",
    "    draw_subfunction(unTrainModel, images=uniform_random_images, plt_name='unTrainModel', ax=ax1)\n",
    "    draw_subfunction(TrainModel, images=uniform_random_images, plt_name='TrainModel', ax=ax2)\n",
    "fig.suptitle('uniform')\n",
    "plt.show()"
   ]
  },
  {
   "cell_type": "markdown",
   "metadata": {},
   "source": [
    "### weibull"
   ]
  },
  {
   "cell_type": "code",
   "execution_count": 14,
   "metadata": {
    "ExecuteTime": {
     "end_time": "2021-01-25T12:00:02.835369Z",
     "start_time": "2021-01-25T11:49:35.843172Z"
    },
    "scrolled": true
   },
   "outputs": [
    {
     "name": "stderr",
     "output_type": "stream",
     "text": [
      "\r",
      "  0%|          | 0/11 [00:00<?, ?it/s]"
     ]
    },
    {
     "name": "stdout",
     "output_type": "stream",
     "text": [
      "Epoch:1\n",
      " Train Loss: 1079.3593 | Train Acc: 0.1123\n",
      " Test Acc:0.1028\n",
      "Epoch:2\n",
      " Train Loss: 1079.3134 | Train Acc: 0.1121\n",
      " Test Acc:0.1048\n",
      "Epoch:3\n",
      " Train Loss: 1079.3055 | Train Acc: 0.1119\n",
      " Test Acc:0.1575\n",
      "Epoch:4\n",
      " Train Loss: 1079.3004 | Train Acc: 0.1124\n",
      " Test Acc:0.1160\n",
      "Epoch:5\n",
      " Train Loss: 1079.2956 | Train Acc: 0.1124\n",
      " Test Acc:0.1135\n",
      "Epoch:6\n",
      " Train Loss: 1079.2939 | Train Acc: 0.1124\n",
      " Test Acc:0.1135\n",
      "Epoch:7\n",
      " Train Loss: 1079.2931 | Train Acc: 0.1124\n",
      " Test Acc:0.1135\n",
      "Epoch:8\n",
      " Train Loss: 1079.2924 | Train Acc: 0.1124\n",
      " Test Acc:0.1135\n",
      "Epoch:9\n",
      " Train Loss: 1079.2886 | Train Acc: 0.1124\n",
      " Test Acc:0.1135\n",
      "Epoch:10\n",
      " Train Loss: 1079.2868 | Train Acc: 0.1124\n",
      " Test Acc:0.1135\n"
     ]
    },
    {
     "name": "stderr",
     "output_type": "stream",
     "text": [
      "\r",
      "  9%|▉         | 1/11 [00:58<09:41, 58.17s/it]"
     ]
    },
    {
     "name": "stdout",
     "output_type": "stream",
     "text": [
      "Epoch:1\n",
      " Train Loss: 891.2370 | Train Acc: 0.3074\n",
      " Test Acc:0.6627\n",
      "Epoch:2\n",
      " Train Loss: 568.0673 | Train Acc: 0.5867\n",
      " Test Acc:0.7632\n",
      "Epoch:3\n",
      " Train Loss: 460.0123 | Train Acc: 0.6650\n",
      " Test Acc:0.8144\n",
      "Epoch:4\n",
      " Train Loss: 423.8270 | Train Acc: 0.6949\n",
      " Test Acc:0.8312\n",
      "Epoch:5\n",
      " Train Loss: 396.1006 | Train Acc: 0.7145\n",
      " Test Acc:0.8625\n",
      "Epoch:6\n",
      " Train Loss: 384.3184 | Train Acc: 0.7230\n",
      " Test Acc:0.8769\n",
      "Epoch:7\n",
      " Train Loss: 369.3817 | Train Acc: 0.7333\n",
      " Test Acc:0.8852\n",
      "Epoch:8\n",
      " Train Loss: 355.5687 | Train Acc: 0.7435\n",
      " Test Acc:0.8902\n",
      "Epoch:9\n",
      " Train Loss: 345.2436 | Train Acc: 0.7513\n",
      " Test Acc:0.9113\n",
      "Epoch:10\n",
      " Train Loss: 341.3934 | Train Acc: 0.7521\n",
      " Test Acc:0.9110\n"
     ]
    },
    {
     "name": "stderr",
     "output_type": "stream",
     "text": [
      "\r",
      " 18%|█▊        | 2/11 [01:55<08:37, 57.51s/it]"
     ]
    },
    {
     "name": "stdout",
     "output_type": "stream",
     "text": [
      "Epoch:1\n",
      " Train Loss: 484.5416 | Train Acc: 0.6732\n",
      " Test Acc:0.8518\n",
      "Epoch:2\n",
      " Train Loss: 198.1635 | Train Acc: 0.8676\n",
      " Test Acc:0.9189\n",
      "Epoch:3\n",
      " Train Loss: 147.1794 | Train Acc: 0.9004\n",
      " Test Acc:0.9375\n",
      "Epoch:4\n",
      " Train Loss: 123.0029 | Train Acc: 0.9172\n",
      " Test Acc:0.9542\n",
      "Epoch:5\n",
      " Train Loss: 106.5488 | Train Acc: 0.9277\n",
      " Test Acc:0.9595\n",
      "Epoch:6\n",
      " Train Loss: 96.6811 | Train Acc: 0.9337\n",
      " Test Acc:0.9637\n",
      "Epoch:7\n",
      " Train Loss: 87.5660 | Train Acc: 0.9405\n",
      " Test Acc:0.9670\n",
      "Epoch:8\n",
      " Train Loss: 81.9746 | Train Acc: 0.9433\n",
      " Test Acc:0.9700\n",
      "Epoch:9\n",
      " Train Loss: 77.6597 | Train Acc: 0.9471\n",
      " Test Acc:0.9729\n",
      "Epoch:10\n",
      " Train Loss: 73.0689 | Train Acc: 0.9495\n",
      " Test Acc:0.9740\n"
     ]
    },
    {
     "name": "stderr",
     "output_type": "stream",
     "text": [
      "\r",
      " 27%|██▋       | 3/11 [02:52<07:38, 57.27s/it]"
     ]
    },
    {
     "name": "stdout",
     "output_type": "stream",
     "text": [
      "Epoch:1\n",
      " Train Loss: 468.6935 | Train Acc: 0.6838\n",
      " Test Acc:0.8501\n",
      "Epoch:2\n",
      " Train Loss: 190.6507 | Train Acc: 0.8758\n",
      " Test Acc:0.9057\n",
      "Epoch:3\n",
      " Train Loss: 131.3589 | Train Acc: 0.9150\n",
      " Test Acc:0.9319\n",
      "Epoch:4\n",
      " Train Loss: 102.1731 | Train Acc: 0.9319\n",
      " Test Acc:0.9448\n",
      "Epoch:5\n",
      " Train Loss: 86.6291 | Train Acc: 0.9413\n",
      " Test Acc:0.9524\n",
      "Epoch:6\n",
      " Train Loss: 77.4672 | Train Acc: 0.9477\n",
      " Test Acc:0.9579\n",
      "Epoch:7\n",
      " Train Loss: 71.1603 | Train Acc: 0.9517\n",
      " Test Acc:0.9615\n",
      "Epoch:8\n",
      " Train Loss: 66.4719 | Train Acc: 0.9545\n",
      " Test Acc:0.9639\n",
      "Epoch:9\n",
      " Train Loss: 61.8158 | Train Acc: 0.9576\n",
      " Test Acc:0.9663\n",
      "Epoch:10\n",
      " Train Loss: 57.5116 | Train Acc: 0.9602\n",
      " Test Acc:0.9693\n"
     ]
    },
    {
     "name": "stderr",
     "output_type": "stream",
     "text": [
      "\r",
      " 36%|███▋      | 4/11 [03:49<06:41, 57.42s/it]"
     ]
    },
    {
     "name": "stdout",
     "output_type": "stream",
     "text": [
      "Epoch:1\n",
      " Train Loss: 414.9509 | Train Acc: 0.7278\n",
      " Test Acc:0.8854\n",
      "Epoch:2\n",
      " Train Loss: 139.9019 | Train Acc: 0.9111\n",
      " Test Acc:0.9216\n",
      "Epoch:3\n",
      " Train Loss: 98.5714 | Train Acc: 0.9364\n",
      " Test Acc:0.9375\n",
      "Epoch:4\n",
      " Train Loss: 80.4844 | Train Acc: 0.9470\n",
      " Test Acc:0.9554\n",
      "Epoch:5\n",
      " Train Loss: 68.4710 | Train Acc: 0.9547\n",
      " Test Acc:0.9615\n",
      "Epoch:6\n",
      " Train Loss: 59.4774 | Train Acc: 0.9612\n",
      " Test Acc:0.9676\n",
      "Epoch:7\n",
      " Train Loss: 53.8794 | Train Acc: 0.9638\n",
      " Test Acc:0.9694\n",
      "Epoch:8\n",
      " Train Loss: 49.2826 | Train Acc: 0.9672\n",
      " Test Acc:0.9717\n",
      "Epoch:9\n",
      " Train Loss: 46.9526 | Train Acc: 0.9686\n",
      " Test Acc:0.9721\n",
      "Epoch:10\n",
      " Train Loss: 42.8827 | Train Acc: 0.9710\n",
      " Test Acc:0.9736\n"
     ]
    },
    {
     "name": "stderr",
     "output_type": "stream",
     "text": [
      "\r",
      " 45%|████▌     | 5/11 [04:46<05:42, 57.12s/it]"
     ]
    },
    {
     "name": "stdout",
     "output_type": "stream",
     "text": [
      "Epoch:1\n",
      " Train Loss: 357.7986 | Train Acc: 0.7608\n",
      " Test Acc:0.7863\n",
      "Epoch:2\n",
      " Train Loss: 125.9392 | Train Acc: 0.9178\n",
      " Test Acc:0.8808\n",
      "Epoch:3\n",
      " Train Loss: 89.6196 | Train Acc: 0.9419\n",
      " Test Acc:0.9253\n",
      "Epoch:4\n",
      " Train Loss: 70.5558 | Train Acc: 0.9540\n",
      " Test Acc:0.9395\n",
      "Epoch:5\n",
      " Train Loss: 59.1871 | Train Acc: 0.9621\n",
      " Test Acc:0.9536\n",
      "Epoch:6\n",
      " Train Loss: 51.9443 | Train Acc: 0.9660\n",
      " Test Acc:0.9599\n",
      "Epoch:7\n",
      " Train Loss: 46.5871 | Train Acc: 0.9690\n",
      " Test Acc:0.9656\n",
      "Epoch:8\n",
      " Train Loss: 42.8792 | Train Acc: 0.9718\n",
      " Test Acc:0.9701\n",
      "Epoch:9\n",
      " Train Loss: 39.7484 | Train Acc: 0.9742\n",
      " Test Acc:0.9736\n",
      "Epoch:10\n",
      " Train Loss: 37.1942 | Train Acc: 0.9754\n",
      " Test Acc:0.9761\n"
     ]
    },
    {
     "name": "stderr",
     "output_type": "stream",
     "text": [
      "\r",
      " 55%|█████▍    | 6/11 [05:43<04:44, 56.94s/it]"
     ]
    },
    {
     "name": "stdout",
     "output_type": "stream",
     "text": [
      "Epoch:1\n",
      " Train Loss: 281.6625 | Train Acc: 0.8295\n",
      " Test Acc:0.8662\n",
      "Epoch:2\n",
      " Train Loss: 103.0166 | Train Acc: 0.9338\n",
      " Test Acc:0.9298\n",
      "Epoch:3\n",
      " Train Loss: 72.9772 | Train Acc: 0.9536\n",
      " Test Acc:0.9493\n",
      "Epoch:4\n",
      " Train Loss: 58.1134 | Train Acc: 0.9622\n",
      " Test Acc:0.9543\n",
      "Epoch:5\n",
      " Train Loss: 49.3478 | Train Acc: 0.9677\n",
      " Test Acc:0.9594\n",
      "Epoch:6\n",
      " Train Loss: 43.1143 | Train Acc: 0.9718\n",
      " Test Acc:0.9635\n",
      "Epoch:7\n",
      " Train Loss: 38.4439 | Train Acc: 0.9751\n",
      " Test Acc:0.9678\n",
      "Epoch:8\n",
      " Train Loss: 34.2971 | Train Acc: 0.9774\n",
      " Test Acc:0.9664\n",
      "Epoch:9\n",
      " Train Loss: 31.7713 | Train Acc: 0.9790\n",
      " Test Acc:0.9669\n",
      "Epoch:10\n",
      " Train Loss: 29.3611 | Train Acc: 0.9799\n",
      " Test Acc:0.9669\n"
     ]
    },
    {
     "name": "stderr",
     "output_type": "stream",
     "text": [
      "\r",
      " 64%|██████▎   | 7/11 [06:39<03:47, 56.88s/it]"
     ]
    },
    {
     "name": "stdout",
     "output_type": "stream",
     "text": [
      "Epoch:1\n",
      " Train Loss: 297.8164 | Train Acc: 0.8188\n",
      " Test Acc:0.9085\n",
      "Epoch:2\n",
      " Train Loss: 99.2482 | Train Acc: 0.9369\n",
      " Test Acc:0.9553\n",
      "Epoch:3\n",
      " Train Loss: 64.8109 | Train Acc: 0.9579\n",
      " Test Acc:0.9653\n",
      "Epoch:4\n",
      " Train Loss: 50.3001 | Train Acc: 0.9671\n",
      " Test Acc:0.9704\n",
      "Epoch:5\n",
      " Train Loss: 42.2531 | Train Acc: 0.9719\n",
      " Test Acc:0.9743\n",
      "Epoch:6\n",
      " Train Loss: 36.8499 | Train Acc: 0.9754\n",
      " Test Acc:0.9760\n",
      "Epoch:7\n",
      " Train Loss: 32.7058 | Train Acc: 0.9783\n",
      " Test Acc:0.9771\n",
      "Epoch:8\n",
      " Train Loss: 29.6143 | Train Acc: 0.9802\n",
      " Test Acc:0.9763\n",
      "Epoch:9\n",
      " Train Loss: 26.7908 | Train Acc: 0.9825\n",
      " Test Acc:0.9763\n",
      "Epoch:10\n",
      " Train Loss: 24.7552 | Train Acc: 0.9834\n",
      " Test Acc:0.9779\n"
     ]
    },
    {
     "name": "stderr",
     "output_type": "stream",
     "text": [
      "\r",
      " 73%|███████▎  | 8/11 [07:36<02:50, 56.79s/it]"
     ]
    },
    {
     "name": "stdout",
     "output_type": "stream",
     "text": [
      "Epoch:1\n",
      " Train Loss: 263.6201 | Train Acc: 0.8322\n",
      " Test Acc:0.9153\n",
      "Epoch:2\n",
      " Train Loss: 86.7696 | Train Acc: 0.9440\n",
      " Test Acc:0.9509\n",
      "Epoch:3\n",
      " Train Loss: 58.0367 | Train Acc: 0.9617\n",
      " Test Acc:0.9656\n",
      "Epoch:4\n",
      " Train Loss: 45.4228 | Train Acc: 0.9696\n",
      " Test Acc:0.9727\n",
      "Epoch:5\n",
      " Train Loss: 37.8819 | Train Acc: 0.9744\n",
      " Test Acc:0.9768\n",
      "Epoch:6\n",
      " Train Loss: 32.7617 | Train Acc: 0.9777\n",
      " Test Acc:0.9791\n",
      "Epoch:7\n",
      " Train Loss: 28.6788 | Train Acc: 0.9805\n",
      " Test Acc:0.9810\n",
      "Epoch:8\n",
      " Train Loss: 25.3637 | Train Acc: 0.9829\n",
      " Test Acc:0.9815\n",
      "Epoch:9\n",
      " Train Loss: 22.9367 | Train Acc: 0.9847\n",
      " Test Acc:0.9819\n",
      "Epoch:10\n",
      " Train Loss: 20.8955 | Train Acc: 0.9865\n",
      " Test Acc:0.9836\n"
     ]
    },
    {
     "name": "stderr",
     "output_type": "stream",
     "text": [
      "\r",
      " 82%|████████▏ | 9/11 [08:32<01:53, 56.70s/it]"
     ]
    },
    {
     "name": "stdout",
     "output_type": "stream",
     "text": [
      "Epoch:1\n",
      " Train Loss: 256.0793 | Train Acc: 0.8377\n",
      " Test Acc:0.9262\n",
      "Epoch:2\n",
      " Train Loss: 80.0378 | Train Acc: 0.9485\n",
      " Test Acc:0.9579\n",
      "Epoch:3\n",
      " Train Loss: 51.9365 | Train Acc: 0.9658\n",
      " Test Acc:0.9691\n",
      "Epoch:4\n",
      " Train Loss: 39.9278 | Train Acc: 0.9739\n",
      " Test Acc:0.9733\n",
      "Epoch:5\n",
      " Train Loss: 33.2578 | Train Acc: 0.9779\n",
      " Test Acc:0.9762\n",
      "Epoch:6\n",
      " Train Loss: 28.6544 | Train Acc: 0.9808\n",
      " Test Acc:0.9783\n",
      "Epoch:7\n",
      " Train Loss: 25.2958 | Train Acc: 0.9834\n",
      " Test Acc:0.9810\n",
      "Epoch:8\n",
      " Train Loss: 22.4916 | Train Acc: 0.9853\n",
      " Test Acc:0.9818\n",
      "Epoch:9\n",
      " Train Loss: 20.1173 | Train Acc: 0.9867\n",
      " Test Acc:0.9815\n",
      "Epoch:10\n",
      " Train Loss: 18.1759 | Train Acc: 0.9884\n",
      " Test Acc:0.9809\n"
     ]
    },
    {
     "name": "stderr",
     "output_type": "stream",
     "text": [
      "\r",
      " 91%|█████████ | 10/11 [09:29<00:56, 56.78s/it]"
     ]
    },
    {
     "name": "stdout",
     "output_type": "stream",
     "text": [
      "Epoch:1\n",
      " Train Loss: 221.8377 | Train Acc: 0.8690\n",
      " Test Acc:0.9467\n",
      "Epoch:2\n",
      " Train Loss: 70.6097 | Train Acc: 0.9545\n",
      " Test Acc:0.9673\n",
      "Epoch:3\n",
      " Train Loss: 47.5232 | Train Acc: 0.9692\n",
      " Test Acc:0.9723\n",
      "Epoch:4\n",
      " Train Loss: 37.5367 | Train Acc: 0.9750\n",
      " Test Acc:0.9750\n",
      "Epoch:5\n",
      " Train Loss: 31.5867 | Train Acc: 0.9787\n",
      " Test Acc:0.9780\n",
      "Epoch:6\n",
      " Train Loss: 27.2416 | Train Acc: 0.9819\n",
      " Test Acc:0.9801\n",
      "Epoch:7\n",
      " Train Loss: 23.9497 | Train Acc: 0.9840\n",
      " Test Acc:0.9816\n",
      "Epoch:8\n",
      " Train Loss: 21.1828 | Train Acc: 0.9858\n",
      " Test Acc:0.9816\n",
      "Epoch:9\n",
      " Train Loss: 18.9349 | Train Acc: 0.9875\n",
      " Test Acc:0.9809\n",
      "Epoch:10\n",
      " Train Loss: 16.9457 | Train Acc: 0.9889\n",
      " Test Acc:0.9827\n"
     ]
    },
    {
     "name": "stderr",
     "output_type": "stream",
     "text": [
      "100%|██████████| 11/11 [10:26<00:00, 56.96s/it]\n"
     ]
    },
    {
     "data": {
      "image/png": "[encoded data removed]",
      "text/plain": [
       "<Figure size 2376x432 with 22 Axes>"
      ]
     },
     "metadata": {},
     "output_type": "display_data"
    }
   ],
   "source": [
    "fig = plt.figure(figsize=(33, 6))\n",
    "for i in tqdm.trange(11):\n",
    "    TrainModel = MnistModel().cuda()\n",
    "    optimizer = optim.Adam(TrainModel.parameters(), lr=1e-3)\n",
    "    criterizion = nn.CrossEntropyLoss()\n",
    "    epochs = 10\n",
    "    for epoch in range(epochs):\n",
    "        print('Epoch:{}'.format(epoch+1))\n",
    "        weibull_random_images = np.random.weibull(a=10, size=x_train.shape)\n",
    "        train_data = x_train*i*0.1+weibull_random_images*(1-i*0.1)\n",
    "        train_data = np.clip(0, 1, train_data)\n",
    "        train(model=TrainModel, x=train_data, y=y_train, batch_size=128)\n",
    "        test(model=TrainModel, x=x_test, y=y_test, batch_size=128)\n",
    "\n",
    "    ax1 = fig.add_subplot(2, 11, i+1)\n",
    "    ax2 = fig.add_subplot(2, 11, i+12)\n",
    "    weibull_random_images = np.random.weibull(a=10, size=(10000, 1, 28, 28))\n",
    "    weibull_random_images = np.clip(0, 1, weibull_random_images)\n",
    "    draw_subfunction(unTrainModel, images=weibull_random_images, plt_name='unTrainModel', ax=ax1)\n",
    "    draw_subfunction(TrainModel, images=weibull_random_images, plt_name='TrainModel', ax=ax2)\n",
    "fig.suptitle('uniform')\n",
    "plt.show()"
   ]
  },
  {
   "cell_type": "markdown",
   "metadata": {},
   "source": [
    "### dirichlet"
   ]
  },
  {
   "cell_type": "code",
   "execution_count": 22,
   "metadata": {
    "ExecuteTime": {
     "end_time": "2021-01-25T12:15:07.174865Z",
     "start_time": "2021-01-25T12:08:40.912329Z"
    },
    "scrolled": true
   },
   "outputs": [
    {
     "name": "stderr",
     "output_type": "stream",
     "text": [
      "\r",
      "  0%|          | 0/11 [00:00<?, ?it/s]"
     ]
    },
    {
     "name": "stdout",
     "output_type": "stream",
     "text": [
      "Epoch:1\n",
      " Train Loss: 1079.3539 | Train Acc: 0.1121\n",
      " Test Acc:0.0928\n",
      "Epoch:2\n",
      " Train Loss: 1079.3190 | Train Acc: 0.1120\n",
      " Test Acc:0.1113\n",
      "Epoch:3\n",
      " Train Loss: 1079.3142 | Train Acc: 0.1121\n",
      " Test Acc:0.1139\n",
      "Epoch:4\n",
      " Train Loss: 1079.3112 | Train Acc: 0.1124\n",
      " Test Acc:0.1135\n",
      "Epoch:5\n",
      " Train Loss: 1079.3067 | Train Acc: 0.1124\n",
      " Test Acc:0.1135\n",
      "Epoch:6\n",
      " Train Loss: 1079.3030 | Train Acc: 0.1124\n",
      " Test Acc:0.1135\n",
      "Epoch:7\n",
      " Train Loss: 1079.3003 | Train Acc: 0.1124\n",
      " Test Acc:0.1135\n",
      "Epoch:8\n",
      " Train Loss: 1079.2986 | Train Acc: 0.1124\n",
      " Test Acc:0.1135\n",
      "Epoch:9\n",
      " Train Loss: 1079.2954 | Train Acc: 0.1124\n",
      " Test Acc:0.1135\n",
      "Epoch:10\n",
      " Train Loss: 1079.2941 | Train Acc: 0.1124\n",
      " Test Acc:0.1135\n"
     ]
    },
    {
     "name": "stderr",
     "output_type": "stream",
     "text": [
      "\r",
      "  9%|▉         | 1/11 [00:35<05:59, 35.97s/it]"
     ]
    },
    {
     "name": "stdout",
     "output_type": "stream",
     "text": [
      "Epoch:1\n",
      " Train Loss: 824.2294 | Train Acc: 0.3759\n",
      " Test Acc:0.6641\n",
      "Epoch:2\n",
      " Train Loss: 283.3510 | Train Acc: 0.8129\n",
      " Test Acc:0.8024\n",
      "Epoch:3\n",
      " Train Loss: 221.7174 | Train Acc: 0.8573\n",
      " Test Acc:0.8448\n",
      "Epoch:4\n",
      " Train Loss: 186.6186 | Train Acc: 0.8812\n",
      " Test Acc:0.8688\n",
      "Epoch:5\n",
      " Train Loss: 158.8166 | Train Acc: 0.8979\n",
      " Test Acc:0.8849\n",
      "Epoch:6\n",
      " Train Loss: 139.0605 | Train Acc: 0.9107\n",
      " Test Acc:0.8982\n",
      "Epoch:7\n",
      " Train Loss: 124.6739 | Train Acc: 0.9192\n",
      " Test Acc:0.9061\n",
      "Epoch:8\n",
      " Train Loss: 112.4542 | Train Acc: 0.9275\n",
      " Test Acc:0.9141\n",
      "Epoch:9\n",
      " Train Loss: 103.1526 | Train Acc: 0.9338\n",
      " Test Acc:0.9223\n",
      "Epoch:10\n",
      " Train Loss: 95.5620 | Train Acc: 0.9376\n",
      " Test Acc:0.9256\n"
     ]
    },
    {
     "name": "stderr",
     "output_type": "stream",
     "text": [
      "\r",
      " 18%|█▊        | 2/11 [01:11<05:21, 35.71s/it]"
     ]
    },
    {
     "name": "stdout",
     "output_type": "stream",
     "text": [
      "Epoch:1\n",
      " Train Loss: 473.9231 | Train Acc: 0.6719\n",
      " Test Acc:0.7665\n",
      "Epoch:2\n",
      " Train Loss: 183.5678 | Train Acc: 0.8810\n",
      " Test Acc:0.8662\n",
      "Epoch:3\n",
      " Train Loss: 133.2631 | Train Acc: 0.9130\n",
      " Test Acc:0.8981\n",
      "Epoch:4\n",
      " Train Loss: 106.4074 | Train Acc: 0.9298\n",
      " Test Acc:0.9152\n",
      "Epoch:5\n",
      " Train Loss: 91.6406 | Train Acc: 0.9384\n",
      " Test Acc:0.9275\n",
      "Epoch:6\n",
      " Train Loss: 81.3365 | Train Acc: 0.9452\n",
      " Test Acc:0.9349\n",
      "Epoch:7\n",
      " Train Loss: 73.6255 | Train Acc: 0.9504\n",
      " Test Acc:0.9392\n",
      "Epoch:8\n",
      " Train Loss: 67.5842 | Train Acc: 0.9541\n",
      " Test Acc:0.9413\n",
      "Epoch:9\n",
      " Train Loss: 62.4813 | Train Acc: 0.9572\n",
      " Test Acc:0.9454\n",
      "Epoch:10\n",
      " Train Loss: 58.2839 | Train Acc: 0.9606\n",
      " Test Acc:0.9472\n"
     ]
    },
    {
     "name": "stderr",
     "output_type": "stream",
     "text": [
      "\r",
      " 27%|██▋       | 3/11 [01:47<04:47, 35.96s/it]"
     ]
    },
    {
     "name": "stdout",
     "output_type": "stream",
     "text": [
      "Epoch:1\n",
      " Train Loss: 466.6160 | Train Acc: 0.6931\n",
      " Test Acc:0.7943\n",
      "Epoch:2\n",
      " Train Loss: 201.5746 | Train Acc: 0.8719\n",
      " Test Acc:0.8778\n",
      "Epoch:3\n",
      " Train Loss: 152.1270 | Train Acc: 0.9035\n",
      " Test Acc:0.8993\n",
      "Epoch:4\n",
      " Train Loss: 127.1748 | Train Acc: 0.9184\n",
      " Test Acc:0.9090\n",
      "Epoch:5\n",
      " Train Loss: 111.9382 | Train Acc: 0.9271\n",
      " Test Acc:0.9121\n",
      "Epoch:6\n",
      " Train Loss: 101.4340 | Train Acc: 0.9337\n",
      " Test Acc:0.9166\n",
      "Epoch:7\n",
      " Train Loss: 93.5181 | Train Acc: 0.9387\n",
      " Test Acc:0.9177\n",
      "Epoch:8\n",
      " Train Loss: 86.8507 | Train Acc: 0.9422\n",
      " Test Acc:0.9208\n",
      "Epoch:9\n",
      " Train Loss: 81.2643 | Train Acc: 0.9462\n",
      " Test Acc:0.9233\n",
      "Epoch:10\n",
      " Train Loss: 76.5522 | Train Acc: 0.9491\n",
      " Test Acc:0.9269\n"
     ]
    },
    {
     "name": "stderr",
     "output_type": "stream",
     "text": [
      "\r",
      " 36%|███▋      | 4/11 [02:23<04:10, 35.81s/it]"
     ]
    },
    {
     "name": "stdout",
     "output_type": "stream",
     "text": [
      "Epoch:1\n",
      " Train Loss: 370.6485 | Train Acc: 0.7666\n",
      " Test Acc:0.8802\n",
      "Epoch:2\n",
      " Train Loss: 138.4341 | Train Acc: 0.9116\n",
      " Test Acc:0.9365\n",
      "Epoch:3\n",
      " Train Loss: 94.9398 | Train Acc: 0.9386\n",
      " Test Acc:0.9510\n",
      "Epoch:4\n",
      " Train Loss: 72.7998 | Train Acc: 0.9530\n",
      " Test Acc:0.9598\n",
      "Epoch:5\n",
      " Train Loss: 59.6515 | Train Acc: 0.9617\n",
      " Test Acc:0.9654\n",
      "Epoch:6\n",
      " Train Loss: 51.4273 | Train Acc: 0.9663\n",
      " Test Acc:0.9679\n",
      "Epoch:7\n",
      " Train Loss: 45.9006 | Train Acc: 0.9698\n",
      " Test Acc:0.9690\n",
      "Epoch:8\n",
      " Train Loss: 41.5934 | Train Acc: 0.9730\n",
      " Test Acc:0.9706\n",
      "Epoch:9\n",
      " Train Loss: 38.2457 | Train Acc: 0.9751\n",
      " Test Acc:0.9719\n",
      "Epoch:10\n",
      " Train Loss: 35.2549 | Train Acc: 0.9774\n",
      " Test Acc:0.9739\n"
     ]
    },
    {
     "name": "stderr",
     "output_type": "stream",
     "text": [
      "\r",
      " 45%|████▌     | 5/11 [02:57<03:30, 35.16s/it]"
     ]
    },
    {
     "name": "stdout",
     "output_type": "stream",
     "text": [
      "Epoch:1\n",
      " Train Loss: 340.2324 | Train Acc: 0.7796\n",
      " Test Acc:0.8589\n",
      "Epoch:2\n",
      " Train Loss: 111.2954 | Train Acc: 0.9276\n",
      " Test Acc:0.9117\n",
      "Epoch:3\n",
      " Train Loss: 79.0682 | Train Acc: 0.9480\n",
      " Test Acc:0.9387\n",
      "Epoch:4\n",
      " Train Loss: 62.5448 | Train Acc: 0.9587\n",
      " Test Acc:0.9495\n",
      "Epoch:5\n",
      " Train Loss: 52.6748 | Train Acc: 0.9652\n",
      " Test Acc:0.9572\n",
      "Epoch:6\n",
      " Train Loss: 45.7301 | Train Acc: 0.9694\n",
      " Test Acc:0.9631\n",
      "Epoch:7\n",
      " Train Loss: 40.6609 | Train Acc: 0.9732\n",
      " Test Acc:0.9685\n",
      "Epoch:8\n",
      " Train Loss: 36.6073 | Train Acc: 0.9758\n",
      " Test Acc:0.9708\n",
      "Epoch:9\n",
      " Train Loss: 33.2839 | Train Acc: 0.9778\n",
      " Test Acc:0.9720\n",
      "Epoch:10\n",
      " Train Loss: 30.6108 | Train Acc: 0.9797\n",
      " Test Acc:0.9731\n"
     ]
    },
    {
     "name": "stderr",
     "output_type": "stream",
     "text": [
      "\r",
      " 55%|█████▍    | 6/11 [03:31<02:53, 34.76s/it]"
     ]
    },
    {
     "name": "stdout",
     "output_type": "stream",
     "text": [
      "Epoch:1\n",
      " Train Loss: 302.8932 | Train Acc: 0.8063\n",
      " Test Acc:0.9174\n",
      "Epoch:2\n",
      " Train Loss: 99.4984 | Train Acc: 0.9355\n",
      " Test Acc:0.9479\n",
      "Epoch:3\n",
      " Train Loss: 69.1497 | Train Acc: 0.9546\n",
      " Test Acc:0.9588\n",
      "Epoch:4\n",
      " Train Loss: 55.1131 | Train Acc: 0.9633\n",
      " Test Acc:0.9638\n",
      "Epoch:5\n",
      " Train Loss: 46.7478 | Train Acc: 0.9690\n",
      " Test Acc:0.9661\n",
      "Epoch:6\n",
      " Train Loss: 41.1106 | Train Acc: 0.9735\n",
      " Test Acc:0.9695\n",
      "Epoch:7\n",
      " Train Loss: 36.9986 | Train Acc: 0.9763\n",
      " Test Acc:0.9715\n",
      "Epoch:8\n",
      " Train Loss: 33.5632 | Train Acc: 0.9786\n",
      " Test Acc:0.9725\n",
      "Epoch:9\n",
      " Train Loss: 30.7543 | Train Acc: 0.9800\n",
      " Test Acc:0.9728\n",
      "Epoch:10\n",
      " Train Loss: 28.5133 | Train Acc: 0.9813\n",
      " Test Acc:0.9739\n"
     ]
    },
    {
     "name": "stderr",
     "output_type": "stream",
     "text": [
      "\r",
      " 64%|██████▎   | 7/11 [04:05<02:18, 34.62s/it]"
     ]
    },
    {
     "name": "stdout",
     "output_type": "stream",
     "text": [
      "Epoch:1\n",
      " Train Loss: 276.1754 | Train Acc: 0.8302\n",
      " Test Acc:0.9316\n",
      "Epoch:2\n",
      " Train Loss: 78.4170 | Train Acc: 0.9497\n",
      " Test Acc:0.9520\n",
      "Epoch:3\n",
      " Train Loss: 54.3608 | Train Acc: 0.9644\n",
      " Test Acc:0.9617\n",
      "Epoch:4\n",
      " Train Loss: 43.2281 | Train Acc: 0.9715\n",
      " Test Acc:0.9669\n",
      "Epoch:5\n",
      " Train Loss: 36.5914 | Train Acc: 0.9760\n",
      " Test Acc:0.9703\n",
      "Epoch:6\n",
      " Train Loss: 31.9235 | Train Acc: 0.9787\n",
      " Test Acc:0.9728\n",
      "Epoch:7\n",
      " Train Loss: 28.2711 | Train Acc: 0.9812\n",
      " Test Acc:0.9750\n",
      "Epoch:8\n",
      " Train Loss: 25.3872 | Train Acc: 0.9833\n",
      " Test Acc:0.9755\n",
      "Epoch:9\n",
      " Train Loss: 23.0792 | Train Acc: 0.9847\n",
      " Test Acc:0.9763\n",
      "Epoch:10\n",
      " Train Loss: 20.9786 | Train Acc: 0.9859\n",
      " Test Acc:0.9772\n"
     ]
    },
    {
     "name": "stderr",
     "output_type": "stream",
     "text": [
      "\r",
      " 73%|███████▎  | 8/11 [04:43<01:46, 35.60s/it]"
     ]
    },
    {
     "name": "stdout",
     "output_type": "stream",
     "text": [
      "Epoch:1\n",
      " Train Loss: 228.3271 | Train Acc: 0.8640\n",
      " Test Acc:0.9421\n",
      "Epoch:2\n",
      " Train Loss: 71.1059 | Train Acc: 0.9550\n",
      " Test Acc:0.9632\n",
      "Epoch:3\n",
      " Train Loss: 50.0040 | Train Acc: 0.9683\n",
      " Test Acc:0.9697\n",
      "Epoch:4\n",
      " Train Loss: 40.1054 | Train Acc: 0.9743\n",
      " Test Acc:0.9735\n",
      "Epoch:5\n",
      " Train Loss: 33.9188 | Train Acc: 0.9784\n",
      " Test Acc:0.9782\n",
      "Epoch:6\n",
      " Train Loss: 29.5774 | Train Acc: 0.9809\n",
      " Test Acc:0.9808\n",
      "Epoch:7\n",
      " Train Loss: 26.2797 | Train Acc: 0.9830\n",
      " Test Acc:0.9814\n",
      "Epoch:8\n",
      " Train Loss: 23.6287 | Train Acc: 0.9848\n",
      " Test Acc:0.9822\n",
      "Epoch:9\n",
      " Train Loss: 21.4479 | Train Acc: 0.9861\n",
      " Test Acc:0.9831\n",
      "Epoch:10\n",
      " Train Loss: 19.3431 | Train Acc: 0.9873\n",
      " Test Acc:0.9838\n"
     ]
    },
    {
     "name": "stderr",
     "output_type": "stream",
     "text": [
      "\r",
      " 82%|████████▏ | 9/11 [05:17<01:10, 35.24s/it]"
     ]
    },
    {
     "name": "stdout",
     "output_type": "stream",
     "text": [
      "Epoch:1\n",
      " Train Loss: 284.2788 | Train Acc: 0.8155\n",
      " Test Acc:0.8975\n",
      "Epoch:2\n",
      " Train Loss: 91.3404 | Train Acc: 0.9408\n",
      " Test Acc:0.9473\n",
      "Epoch:3\n",
      " Train Loss: 59.6541 | Train Acc: 0.9616\n",
      " Test Acc:0.9600\n",
      "Epoch:4\n",
      " Train Loss: 46.0618 | Train Acc: 0.9705\n",
      " Test Acc:0.9678\n",
      "Epoch:5\n",
      " Train Loss: 38.1709 | Train Acc: 0.9759\n",
      " Test Acc:0.9723\n",
      "Epoch:6\n",
      " Train Loss: 32.7966 | Train Acc: 0.9791\n",
      " Test Acc:0.9747\n",
      "Epoch:7\n",
      " Train Loss: 28.8808 | Train Acc: 0.9813\n",
      " Test Acc:0.9746\n",
      "Epoch:8\n",
      " Train Loss: 26.0679 | Train Acc: 0.9834\n",
      " Test Acc:0.9756\n",
      "Epoch:9\n",
      " Train Loss: 23.7091 | Train Acc: 0.9847\n",
      " Test Acc:0.9765\n",
      "Epoch:10\n",
      " Train Loss: 21.5949 | Train Acc: 0.9862\n",
      " Test Acc:0.9775\n"
     ]
    },
    {
     "name": "stderr",
     "output_type": "stream",
     "text": [
      "\r",
      " 91%|█████████ | 10/11 [05:51<00:34, 34.88s/it]"
     ]
    },
    {
     "name": "stdout",
     "output_type": "stream",
     "text": [
      "Epoch:1\n",
      " Train Loss: 213.8792 | Train Acc: 0.8702\n",
      " Test Acc:0.9505\n",
      "Epoch:2\n",
      " Train Loss: 65.0193 | Train Acc: 0.9582\n",
      " Test Acc:0.9660\n",
      "Epoch:3\n",
      " Train Loss: 45.0230 | Train Acc: 0.9711\n",
      " Test Acc:0.9718\n",
      "Epoch:4\n",
      " Train Loss: 35.8452 | Train Acc: 0.9764\n",
      " Test Acc:0.9788\n",
      "Epoch:5\n",
      " Train Loss: 29.9110 | Train Acc: 0.9807\n",
      " Test Acc:0.9809\n",
      "Epoch:6\n",
      " Train Loss: 25.5734 | Train Acc: 0.9833\n",
      " Test Acc:0.9821\n",
      "Epoch:7\n",
      " Train Loss: 22.4180 | Train Acc: 0.9855\n",
      " Test Acc:0.9831\n",
      "Epoch:8\n",
      " Train Loss: 19.6128 | Train Acc: 0.9874\n",
      " Test Acc:0.9835\n",
      "Epoch:9\n",
      " Train Loss: 17.4271 | Train Acc: 0.9886\n",
      " Test Acc:0.9845\n",
      "Epoch:10\n",
      " Train Loss: 15.7645 | Train Acc: 0.9898\n",
      " Test Acc:0.9838\n"
     ]
    },
    {
     "name": "stderr",
     "output_type": "stream",
     "text": [
      "100%|██████████| 11/11 [06:25<00:00, 35.06s/it]\n"
     ]
    },
    {
     "data": {
      "image/png": "[encoded data removed]",
      "text/plain": [
       "<Figure size 2376x432 with 22 Axes>"
      ]
     },
     "metadata": {},
     "output_type": "display_data"
    }
   ],
   "source": [
    "fig = plt.figure(figsize=(33, 6))\n",
    "for i in tqdm.trange(11):\n",
    "    TrainModel = MnistModel().cuda()\n",
    "    optimizer = optim.Adam(TrainModel.parameters(), lr=1e-3)\n",
    "    criterizion = nn.CrossEntropyLoss()\n",
    "    epochs = 10\n",
    "    for epoch in range(epochs):\n",
    "        print('Epoch:{}'.format(epoch+1))\n",
    "        dirichlet_random_images = np.random.dirichlet(([1]), size=x_train.shape).reshape((-1, 28, 28, 1))\n",
    "        train_data = x_train*i*0.1+dirichlet_random_images*(1-i*0.1)\n",
    "        train_data = np.clip(0, 1, train_data)\n",
    "        train(model=TrainModel, x=train_data, y=y_train, batch_size=128)\n",
    "        test(model=TrainModel, x=x_test, y=y_test, batch_size=128)\n",
    "\n",
    "    ax1 = fig.add_subplot(2, 11, i+1)\n",
    "    ax2 = fig.add_subplot(2, 11, i+12)\n",
    "    dirichlet_random_images = np.random.dirichlet(([1]), size=(10000, 1, 28, 28)).reshape((10000, 1, 28, 28))\n",
    "    dirichlet_random_images = np.clip(0, 1, dirichlet_random_images)\n",
    "    draw_subfunction(unTrainModel, images=dirichlet_random_images, plt_name='unTrainModel', ax=ax1)\n",
    "    draw_subfunction(TrainModel, images=dirichlet_random_images, plt_name='TrainModel', ax=ax2)\n",
    "fig.suptitle('uniform')\n",
    "plt.show()"
   ]
  },
  {
   "cell_type": "markdown",
   "metadata": {
    "ExecuteTime": {
     "end_time": "2021-01-25T12:07:33.918440Z",
     "start_time": "2021-01-25T12:07:31.479002Z"
    }
   },
   "source": [
    "\n",
    "*Question 3*: **Are other models are same as MNIST Model**\n",
    "\n",
    "- Evaluate on different models including \"AlexNet\", \"ResNet\", \"VGG\"\n",
    "\n",
    "*Answer 3*: Yes! they are all out of performance!!!"
   ]
  },
  {
   "cell_type": "markdown",
   "metadata": {},
   "source": [
    " ### generate random images"
   ]
  },
  {
   "cell_type": "code",
   "execution_count": 4,
   "metadata": {
    "ExecuteTime": {
     "end_time": "2021-01-26T02:47:47.758090Z",
     "start_time": "2021-01-26T02:42:03.631222Z"
    }
   },
   "outputs": [],
   "source": [
    "image_shape = (10000, 3, 224, 224)\n",
    "# gaussian\n",
    "gaussian_random_images = np.random.randn(*image_shape)/6+0.5\n",
    "gaussian_random_images = np.clip(0, 1, gaussian_random_images)\n",
    "\n",
    "# beta\n",
    "beta_random_images = np.random.beta(a=1, b=1, size=image_shape)\n",
    "beta_random_images = np.clip(0, 1, beta_random_images)\n",
    "\n",
    "# uniform\n",
    "uniform_random_images = np.random.uniform(low=1, high=1, size=image_shape)\n",
    "uniform_random_images = np.clip(0, 1, uniform_random_images)\n",
    "\n",
    "# weibull\n",
    "weibull_random_images = np.random.weibull(a=10, size=image_shape)\n",
    "weibull_random_images = np.clip(0, 1, weibull_random_images)\n",
    "\n",
    "# dirichlet\n",
    "dirichlet_random_images = np.random.dirichlet(([1]), size=image_shape).reshape(image_shape)\n",
    "dirichlet_random_images = np.clip(0, 1, dirichlet_random_images)\n",
    "\n",
    "\n",
    "random_images = [gaussian_random_images, beta_random_images, uniform_random_images,\n",
    "                 weibull_random_images, dirichlet_random_images]\n",
    "noise_name = ['gaussian', 'beta', 'uniform', 'weibull', 'dirichlet']"
   ]
  },
  {
   "cell_type": "markdown",
   "metadata": {},
   "source": [
    "###  AlexNet"
   ]
  },
  {
   "cell_type": "code",
   "execution_count": 52,
   "metadata": {
    "ExecuteTime": {
     "end_time": "2021-01-25T16:46:39.748271Z",
     "start_time": "2021-01-25T16:46:13.760238Z"
    }
   },
   "outputs": [
    {
     "data": {
      "image/png": "[encoded data removed]",
      "text/plain": [
       "<Figure size 1080x432 with 10 Axes>"
      ]
     },
     "metadata": {},
     "output_type": "display_data"
    }
   ],
   "source": [
    "from torchvision.models import alexnet\n",
    "\n",
    "AlexNet_unTrainModel = alexnet(pretrained=False).cuda()\n",
    "AlexNet_TrainModel = alexnet(pretrained=False).cuda()\n",
    "model_path = '/home/nvidia/LINMUX/Pretrained models/torch/Alex/alexnet-owt-4df8aa71.pth'\n",
    "AlexNet_TrainModel.load_state_dict(torch.load(model_path))\n",
    "\n",
    "fig = plt.figure(figsize=(15, 6))\n",
    "for i in range(5):\n",
    "    ax1 = fig.add_subplot(2, 5, i+1)\n",
    "    ax2 = fig.add_subplot(2, 5, i+6)\n",
    "    draw_subfunction(model=AlexNet_unTrainModel, images=random_images[i], \n",
    "                        plt_name=noise_name[i], ax=ax1, batch_size=32, num_classes=1000)\n",
    "    draw_subfunction(model=AlexNet_TrainModel, images=random_images[i], \n",
    "                        plt_name=noise_name[i], ax=ax2, batch_size=32, num_classes=1000)\n",
    "plt.show()"
   ]
  },
  {
   "cell_type": "markdown",
   "metadata": {
    "ExecuteTime": {
     "end_time": "2021-01-25T12:34:10.294277Z",
     "start_time": "2021-01-25T12:34:09.345090Z"
    }
   },
   "source": [
    "### ResNet"
   ]
  },
  {
   "cell_type": "code",
   "execution_count": 53,
   "metadata": {
    "ExecuteTime": {
     "end_time": "2021-01-25T16:50:28.915040Z",
     "start_time": "2021-01-25T16:46:52.891570Z"
    }
   },
   "outputs": [
    {
     "data": {
      "image/png": "[encoded data removed]",
      "text/plain": [
       "<Figure size 1080x432 with 10 Axes>"
      ]
     },
     "metadata": {},
     "output_type": "display_data"
    }
   ],
   "source": [
    "from torchvision.models import resnet101\n",
    "\n",
    "ResNet_unTrainModel = resnet101(pretrained=False).cuda()\n",
    "ResNet_TrainModel = resnet101(pretrained=False).cuda()\n",
    "model_path = '/home/nvidia/LINMUX/Pretrained models/torch/ResNet/resnet101-5d3b4d8f.pth'\n",
    "ResNet_TrainModel.load_state_dict(torch.load(model_path))\n",
    "\n",
    "fig = plt.figure(figsize=(15, 6))\n",
    "for i in range(5):\n",
    "    ax1 = fig.add_subplot(2, 5, i+1)\n",
    "    ax2 = fig.add_subplot(2, 5, i+6)\n",
    "    draw_subfunction(model=ResNet_unTrainModel, images=random_images[i], \n",
    "                        plt_name=noise_name[i], ax=ax1, batch_size=32, num_classes=1000)\n",
    "    draw_subfunction(model=ResNet_TrainModel, images=random_images[i], \n",
    "                        plt_name=noise_name[i], ax=ax2, batch_size=32, num_classes=1000)\n",
    "plt.show()"
   ]
  },
  {
   "cell_type": "markdown",
   "metadata": {},
   "source": [
    "### VGG"
   ]
  },
  {
   "cell_type": "code",
   "execution_count": 5,
   "metadata": {
    "ExecuteTime": {
     "end_time": "2021-01-26T02:54:05.372251Z",
     "start_time": "2021-01-26T02:50:10.540139Z"
    }
   },
   "outputs": [
    {
     "data": {
      "image/png": "[encoded data removed]",
      "text/plain": [
       "<Figure size 1080x432 with 10 Axes>"
      ]
     },
     "metadata": {},
     "output_type": "display_data"
    }
   ],
   "source": [
    "from torchvision.models import vgg16\n",
    "\n",
    "VGG_unTrainModel = vgg16(pretrained=False).cuda()\n",
    "VGG_TrainModel = vgg16(pretrained=False).cuda()\n",
    "model_path = '/home/nvidia/LINMUX/Pretrained models/torch/VGG/vgg16-397923af.pth'\n",
    "VGG_TrainModel.load_state_dict(torch.load(model_path))\n",
    "\n",
    "fig = plt.figure(figsize=(15, 6))\n",
    "for i in range(5):\n",
    "    ax1 = fig.add_subplot(2, 5, i+1)\n",
    "    ax2 = fig.add_subplot(2, 5, i+6)\n",
    "    draw_subfunction(model=VGG_unTrainModel, images=random_images[i], \n",
    "                        plt_name=noise_name[i], ax=ax1, batch_size=32, num_classes=1000)\n",
    "    draw_subfunction(model=VGG_TrainModel, images=random_images[i], \n",
    "                        plt_name=noise_name[i], ax=ax2, batch_size=32, num_classes=1000)\n",
    "plt.show()"
   ]
  },
  {
   "cell_type": "markdown",
   "metadata": {},
   "source": [
    "*Question 4* : Is the reason that these noises are similar to the data of one category when the random noises are mainly classified into one category?\n",
    "\n",
    "- step1: compute the ssmi, mse or any others\n",
    "- step2: evaluate\n",
    "\n",
    "*Answer 4*: **NO!!!**"
   ]
  },
  {
   "cell_type": "code",
   "execution_count": 9,
   "metadata": {
    "ExecuteTime": {
     "end_time": "2021-01-26T09:11:23.022174Z",
     "start_time": "2021-01-26T09:11:20.860290Z"
    }
   },
   "outputs": [],
   "source": [
    "from skimage.measure import compare_mse, compare_psnr, compare_ssim\n",
    "example_images = [x_train[y_train==i][0] for i in range(10)]# Test on MNIST\n",
    "\n",
    "# gaussian\n",
    "gaussian_random_images = np.random.randn(10000, 1, 28, 28)/6+0.5\n",
    "gaussian_random_images = np.clip(0, 1, gaussian_random_images)\n",
    "\n",
    "# beta\n",
    "beta_random_images = np.random.beta(a=1, b=1, size=(10000, 1, 28, 28))\n",
    "beta_random_images = np.clip(0, 1, beta_random_images)\n",
    "\n",
    "# uniform\n",
    "uniform_random_images = np.random.uniform(low=1, high=1, size=(10000, 1, 28, 28))\n",
    "uniform_random_images = np.clip(0, 1, uniform_random_images)\n",
    "\n",
    "# weibull\n",
    "weibull_random_images = np.random.weibull(a=10, size=(10000, 1, 28, 28))\n",
    "weibull_random_images = np.clip(0, 1, weibull_random_images)\n",
    "\n",
    "# dirichlet\n",
    "dirichlet_random_images = np.random.dirichlet(([1]), size=(10000, 1, 28, 28)).reshape((10000, 1, 28, 28))\n",
    "dirichlet_random_images = np.clip(0, 1, dirichlet_random_images)\n",
    "\n",
    "random_images = [gaussian_random_images, beta_random_images, uniform_random_images,\n",
    "                 weibull_random_images, dirichlet_random_images]\n",
    "noise_name = ['gaussian', 'beta', 'uniform', 'weibull', 'dirichlet']"
   ]
  },
  {
   "cell_type": "code",
   "execution_count": 50,
   "metadata": {
    "ExecuteTime": {
     "end_time": "2021-01-26T08:20:41.525864Z",
     "start_time": "2021-01-26T08:18:29.273685Z"
    }
   },
   "outputs": [
    {
     "data": {
      "image/png": "[encoded data removed]",
      "text/plain": [
       "<Figure size 1080x864 with 20 Axes>"
      ]
     },
     "metadata": {},
     "output_type": "display_data"
    }
   ],
   "source": [
    "def compute_similarity(example_images, x, compare_method):\n",
    "    data = np.copy(x)\n",
    "    similar_category = np.zeros(data.shape[0])\n",
    "    for i in range(data.shape[0]):\n",
    "        if compare_method == compare_ssim:\n",
    "            similar_items = [compare_method(data[i].transpose(1,2,0), example_images[j], multichannel=True) for j in range(len(example_images))]\n",
    "        else:\n",
    "            similar_items = [compare_method(data[i].transpose(1,2,0), example_images[j]) for j in range(len(example_images))]\n",
    "        similar_items = np.array(similar_items)\n",
    "        if compare_method == compare_mse:\n",
    "            similar_category[i] = np.argmin(similar_items)\n",
    "        else:\n",
    "            similar_category[i] = np.argmax(similar_items)\n",
    "    return similar_category\n",
    "\n",
    "def draw_similarity(similar_category, num_classes, ax, plt_name):\n",
    "    similar_category = similar_category.astype(np.int32)\n",
    "    counts = np.bincount(similar_category, minlength=num_classes)\n",
    "    color_list = [item['color'] for item in list(plt.rcParams['axes.prop_cycle'])]\n",
    "    ax.bar(x=np.arange(10), height=counts , color=color_list)\n",
    "    ax.set_xticks([])\n",
    "    ax.set_yticks([])\n",
    "    ax.set_title(plt_name)\n",
    "\n",
    "methods = [compare_mse, compare_psnr, compare_ssim]\n",
    "fig = plt.figure(figsize=(15, 12))\n",
    "for i in range(len(noise_name)):\n",
    "    for j in range(len(methods)):\n",
    "        ax = fig.add_subplot(4, 5, j*len(noise_name)+i+1)\n",
    "        similar_category = compute_similarity(example_images, x=random_images[i], compare_method=methods[j])\n",
    "        draw_similarity(similar_category, num_classes=10, ax=ax, plt_name=noise_name[i])\n",
    "    ax = fig.add_subplot(4, 5, 3*len(noise_name)+i+1)\n",
    "    draw_subfunction(TrainModel, random_images[i], plt_name=noise_name[i], ax=ax)\n",
    "plt.show()"
   ]
  },
  {
   "cell_type": "markdown",
   "metadata": {},
   "source": [
    "*Question 5*: Why these models have such performance ?\n",
    "\n",
    "- Suppose 1: These models are not general on different noise. and how to alleviate?\n",
    "- Suppose 2: Could we generalize these noise to target attack. if yes, we should explain why?"
   ]
  },
  {
   "cell_type": "markdown",
   "metadata": {
    "ExecuteTime": {
     "end_time": "2021-01-26T08:41:48.072795Z",
     "start_time": "2021-01-26T08:41:48.015808Z"
    }
   },
   "source": [
    "### solution 1:  add a category to classfiy unseen inputs"
   ]
  },
  {
   "cell_type": "code",
   "execution_count": 5,
   "metadata": {
    "ExecuteTime": {
     "end_time": "2021-01-26T09:06:49.161692Z",
     "start_time": "2021-01-26T09:06:49.153780Z"
    }
   },
   "outputs": [],
   "source": [
    "import torch.nn.functional as F\n",
    "\n",
    "class Modify_MnistModel(nn.Module):\n",
    "    def __init__(self):\n",
    "        super(Modify_MnistModel, self).__init__()\n",
    "        self.conv1 = nn.Conv2d(in_channels=1, out_channels=4, kernel_size=5, stride=1)\n",
    "        self.conv2 = nn.Conv2d(in_channels=4, out_channels=10, kernel_size=5, stride=1)\n",
    "        self.fc1 = nn.Linear(in_features=4*4*10, out_features=100)\n",
    "        self.fc2 = nn.Linear(in_features=100, out_features=11)\n",
    "\n",
    "    def forward(self, x):\n",
    "        x = F.relu(self.conv1(x))\n",
    "        x = F.max_pool2d(x, 2, 2)\n",
    "        x = F.relu(self.conv2(x))\n",
    "        x = F.max_pool2d(x, 2, 2)\n",
    "        x = x.reshape(-1, 4*4*10)\n",
    "        x = F.relu(self.fc1(x))\n",
    "        x = self.fc2(x)\n",
    "        return x\n"
   ]
  },
  {
   "cell_type": "code",
   "execution_count": 6,
   "metadata": {
    "ExecuteTime": {
     "end_time": "2021-01-26T09:07:07.051322Z",
     "start_time": "2021-01-26T09:06:50.583853Z"
    }
   },
   "outputs": [
    {
     "name": "stdout",
     "output_type": "stream",
     "text": [
      "Epoch:1\n",
      " Train Loss: 223.7336 | Train Acc: 0.8724\n",
      " Test Acc:0.9543(9543/10000)\n",
      "Epoch:2\n",
      " Train Loss: 67.1858 | Train Acc: 0.9598\n",
      " Test Acc:0.9707(9707/10000)\n",
      "Epoch:3\n",
      " Train Loss: 49.8015 | Train Acc: 0.9701\n",
      " Test Acc:0.9745(9745/10000)\n",
      "Epoch:4\n",
      " Train Loss: 40.7715 | Train Acc: 0.9752\n",
      " Test Acc:0.9771(9771/10000)\n",
      "Epoch:5\n",
      " Train Loss: 34.7776 | Train Acc: 0.9784\n",
      " Test Acc:0.9794(9794/10000)\n",
      "Epoch:6\n",
      " Train Loss: 30.8653 | Train Acc: 0.9813\n",
      " Test Acc:0.9796(9796/10000)\n",
      "Epoch:7\n",
      " Train Loss: 27.3989 | Train Acc: 0.9830\n",
      " Test Acc:0.9763(9763/10000)\n",
      "Epoch:8\n",
      " Train Loss: 24.0559 | Train Acc: 0.9854\n",
      " Test Acc:0.9795(9795/10000)\n",
      "Epoch:9\n",
      " Train Loss: 22.2277 | Train Acc: 0.9857\n",
      " Test Acc:0.9840(9840/10000)\n",
      "Epoch:10\n",
      " Train Loss: 20.4251 | Train Acc: 0.9871\n",
      " Test Acc:0.9862(9862/10000)\n"
     ]
    }
   ],
   "source": [
    "ModifyTrainModel = Modify_MnistModel().cuda()\n",
    "optimizer = optim.Adam(ModifyTrainModel.parameters(), lr=1e-3)\n",
    "criterizion = nn.CrossEntropyLoss()\n",
    "epochs = 10\n",
    "for epoch in range(epochs):\n",
    "    print('Epoch:{}'.format(epoch+1))\n",
    "    random_noise = np.random.uniform(low=0, high=1, size=(5000, 28, 28, 1))\n",
    "    train_data = np.concatenate([random_noise, x_train], axis=0)\n",
    "    train_label = np.concatenate([np.ones(5000)*10, y_train], axis=0)\n",
    "    shuffle_ind = np.random.permutation(train_data.shape[0])\n",
    "    train(model=ModifyTrainModel, x=train_data[shuffle_ind], y=train_label[shuffle_ind], batch_size=128)\n",
    "    test(model=ModifyTrainModel, x=x_test, y=y_test, batch_size=128)"
   ]
  },
  {
   "cell_type": "code",
   "execution_count": 17,
   "metadata": {
    "ExecuteTime": {
     "end_time": "2021-01-26T09:29:46.741998Z",
     "start_time": "2021-01-26T09:29:46.709492Z"
    }
   },
   "outputs": [
    {
     "name": "stdout",
     "output_type": "stream",
     "text": [
      "label 10 is (1000/1000) with gaussian\n",
      "label 10 is (1000/1000) with beta\n",
      "label 10 is (1000/1000) with uniform\n",
      "label 10 is (1000/1000) with weibull\n",
      "label 10 is (1000/1000) with dirichlet\n"
     ]
    }
   ],
   "source": [
    "for i, data in enumerate(random_images):\n",
    "    os = ModifyTrainModel(torch.Tensor(data[:1000]).cuda())\n",
    "    _, preds = os.max(1)\n",
    "    result = preds.eq((torch.ones(1000)*10).cuda()).sum().item()\n",
    "    print('label 10 is ({}/{}) with {}'.format(result, 1000, noise_name[i]))"
   ]
  },
  {
   "cell_type": "markdown",
   "metadata": {},
   "source": [
    "### Maybe we could do targeted attack, maybe we could not. \n",
    " Ps: We find Baidu AI could defend this by using solution 1.  "
   ]
  },
  {
   "cell_type": "code",
   "execution_count": null,
   "metadata": {},
   "outputs": [],
   "source": []
  }
 ],
 "metadata": {
  "kernelspec": {
   "display_name": "Python 3",
   "language": "python",
   "name": "python3"
  },
  "language_info": {
   "codemirror_mode": {
    "name": "ipython",
    "version": 3
   },
   "file_extension": ".py",
   "mimetype": "text/x-python",
   "name": "python",
   "nbconvert_exporter": "python",
   "pygments_lexer": "ipython3",
   "version": "3.8.5"
  },
  "toc": {
   "base_numbering": 1,
   "nav_menu": {},
   "number_sections": true,
   "sideBar": true,
   "skip_h1_title": false,
   "title_cell": "Table of Contents",
   "title_sidebar": "Contents",
   "toc_cell": false,
   "toc_position": {},
   "toc_section_display": true,
   "toc_window_display": false
  },
  "varInspector": {
   "cols": {
    "lenName": 16,
    "lenType": 16,
    "lenVar": 40
   },
   "kernels_config": {
    "python": {
     "delete_cmd_postfix": "",
     "delete_cmd_prefix": "del ",
     "library": "var_list.py",
     "varRefreshCmd": "print(var_dic_list())"
    },
    "r": {
     "delete_cmd_postfix": ") ",
     "delete_cmd_prefix": "rm(",
     "library": "var_list.r",
     "varRefreshCmd": "cat(var_dic_list()) "
    }
   },
   "types_to_exclude": [
    "module",
    "function",
    "builtin_function_or_method",
    "instance",
    "_Feature"
   ],
   "window_display": false
  }
 },
 "nbformat": 4,
 "nbformat_minor": 1
}
